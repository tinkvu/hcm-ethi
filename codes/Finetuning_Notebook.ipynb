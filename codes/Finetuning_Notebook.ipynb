{
  "nbformat": 4,
  "nbformat_minor": 0,
  "metadata": {
    "colab": {
      "provenance": [],
      "toc_visible": true,
      "machine_shape": "hm",
      "gpuType": "T4"
    },
    "kernelspec": {
      "name": "python3",
      "display_name": "Python 3"
    },
    "language_info": {
      "name": "python"
    },
    "accelerator": "GPU"
  },
  "cells": [
    {
      "cell_type": "code",
      "execution_count": 1,
      "metadata": {
        "colab": {
          "base_uri": "https://localhost:8080/"
        },
        "id": "SVuFysJSLnt3",
        "outputId": "83102cda-3262-4084-cb58-c3228f815b56"
      },
      "outputs": [
        {
          "output_type": "stream",
          "name": "stdout",
          "text": [
            "Mounted at /content/drive\n"
          ]
        }
      ],
      "source": [
        "# prompt: mount drive\n",
        "\n",
        "from google.colab import drive\n",
        "drive.mount('/content/drive')\n"
      ]
    },
    {
      "cell_type": "markdown",
      "source": [
        "#Preprocessing"
      ],
      "metadata": {
        "id": "A7avW0YuI6O-"
      }
    },
    {
      "cell_type": "code",
      "source": [
        "%cd /content/drive/MyDrive/trainingdata\n",
        "!ls -l"
      ],
      "metadata": {
        "colab": {
          "base_uri": "https://localhost:8080/"
        },
        "id": "Sj0TkCjZL26r",
        "outputId": "5b85fd1e-7874-462a-bc08-3eee136b112c"
      },
      "execution_count": 2,
      "outputs": [
        {
          "output_type": "stream",
          "name": "stdout",
          "text": [
            "/content/drive/MyDrive/training data\n",
            "total 73271\n",
            "-rw------- 1 root root    8272 Apr  9 18:47 audio_001.docx\n",
            "-rw------- 1 root root  908492 Apr  9 18:47 audio_001.m4a\n",
            "-rw------- 1 root root    8825 Apr  9 18:47 audio_002.docx\n",
            "-rw------- 1 root root 1461218 Apr  9 18:47 audio_002.m4a\n",
            "-rw------- 1 root root    9125 Apr  9 18:47 audio_003.docx\n",
            "-rw------- 1 root root 1600616 Apr  9 18:47 audio_003.m4a\n",
            "-rw------- 1 root root    8951 Apr  9 18:47 audio_004.docx\n",
            "-rw------- 1 root root 1633609 Apr  9 18:47 audio_004.m4a\n",
            "-rw------- 1 root root    9814 Apr  9 18:47 audio_005.docx\n",
            "-rw------- 1 root root 2155647 Apr  9 18:47 audio_005.m4a\n",
            "-rw------- 1 root root 1357296 Apr  9 18:47 audio_006.aac\n",
            "-rw------- 1 root root    9592 Apr  9 18:47 audio_006.docx\n",
            "-rw------- 1 root root 1338700 Apr  9 18:47 audio_007.aac\n",
            "-rw------- 1 root root    9714 Apr  9 18:47 audio_007.docx\n",
            "-rw------- 1 root root    9355 Apr  9 18:47 audio_008.docx\n",
            "-rw------- 1 root root   10195 Apr  9 18:47 audio_009.docx\n",
            "-rw------- 1 root root    9579 Apr  9 18:47 audio_010.docx\n",
            "-rw------- 1 root root    8519 Apr  9 18:47 audio_011.docx\n",
            "-rw------- 1 root root 1331013 Apr  9 18:47 audio_011.m4a\n",
            "-rw------- 1 root root    8911 Apr  9 18:47 audio_012.docx\n",
            "-rw------- 1 root root 1229255 Apr  9 18:47 audio_012.m4a\n",
            "-rw------- 1 root root    9135 Apr  9 18:47 audio_013.docx\n",
            "-rw------- 1 root root 1471664 Apr  9 18:47 audio_013.m4a\n",
            "-rw------- 1 root root    8994 Apr  9 18:47 audio_014.docx\n",
            "-rw------- 1 root root    9460 Apr  9 18:47 audio_015.docx\n",
            "-rw------- 1 root root    8023 Apr  9 18:47 audio_020.docx\n",
            "-rw------- 1 root root  353764 Apr  9 18:47 audio_020.mp3\n",
            "-rw------- 1 root root    7960 Apr  9 18:47 audio_021.docx\n",
            "-rw------- 1 root root  405388 Apr  9 18:47 audio_021.mp3\n",
            "-rw------- 1 root root    7986 Apr  9 18:47 audio_022.docx\n",
            "-rw------- 1 root root  400204 Apr  9 18:47 audio_022.mp3\n",
            "-rw------- 1 root root    8156 Apr  9 18:47 audio_023.docx\n",
            "-rw------- 1 root root  413812 Apr  9 18:47 audio_023.mp3\n",
            "-rw------- 1 root root    7982 Apr  9 18:47 audio_024.docx\n",
            "-rw------- 1 root root  349768 Apr  9 18:47 audio_024.mp3\n",
            "-rw------- 1 root root    7731 Apr  9 18:47 audio_025.docx\n",
            "-rw------- 1 root root  349228 Apr  9 18:47 audio_025.mp3\n",
            "-rw------- 1 root root    8161 Apr  9 18:47 audio_026.docx\n",
            "-rw------- 1 root root  488296 Apr  9 18:47 audio_026.mp3\n",
            "-rw------- 1 root root    8131 Apr  9 18:47 audio_027.docx\n",
            "-rw------- 1 root root  350560 Apr  9 18:47 audio_027.mp3\n",
            "-rw------- 1 root root    8175 Apr  9 18:47 audio_028.docx\n",
            "-rw------- 1 root root  343000 Apr  9 18:47 audio_028.mp3\n",
            "-rw------- 1 root root    8263 Apr  9 18:47 audio_029.docx\n",
            "-rw------- 1 root root  350200 Apr  9 18:47 audio_029.mp3\n",
            "-rw------- 1 root root    8651 Apr  9 18:47 audio_030.docx\n",
            "-rw------- 1 root root  458416 Apr  9 18:47 audio_030.mp3\n",
            "-rw------- 1 root root    8555 Apr  9 18:47 audio_031.docx\n",
            "-rw------- 1 root root  457984 Apr  9 18:47 audio_031.mp3\n",
            "-rw------- 1 root root    8727 Apr  9 18:47 audio_032.docx\n",
            "-rw------- 1 root root  191079 Apr  9 18:47 audio_032.mp3\n",
            "-rw------- 1 root root    8690 Apr  9 18:47 audio_033.docx\n",
            "-rw------- 1 root root  201987 Apr  9 18:47 audio_033.mp3\n",
            "-rw------- 1 root root    8576 Apr  9 18:47 audio_034.docx\n",
            "-rw------- 1 root root  222183 Apr  9 18:47 audio_034.mp3\n",
            "-rw------- 1 root root    9286 Apr  9 18:47 audio_035.docx\n",
            "-rw------- 1 root root 1357701 Apr  9 18:47 audio_035.mp3\n",
            "-rw------- 1 root root    9517 Apr  9 18:47 audio_036.docx\n",
            "-rw------- 1 root root 1430844 Apr  9 18:47 audio_036.mp3\n",
            "-rw------- 1 root root    9469 Apr  9 18:47 audio_037.docx\n",
            "-rw------- 1 root root 1689143 Apr  9 18:47 audio_037.mp3\n",
            "-rw------- 1 root root    9351 Apr  9 18:47 audio_038.docx\n",
            "-rw------- 1 root root 1391556 Apr  9 18:47 audio_038.mp3\n",
            "-rw------- 1 root root    8731 Apr  9 18:47 audio_039.docx\n",
            "-rw------- 1 root root 1105672 Apr  9 18:47 audio_039.mp3\n",
            "-rw------- 1 root root    8707 Apr  9 18:47 audio_040.docx\n",
            "-rw------- 1 root root 1238583 Apr  9 18:47 audio_040.mp3\n",
            "-rw------- 1 root root    8699 Apr  9 18:47 audio_041.docx\n",
            "-rw------- 1 root root 1195115 Apr  9 18:47 audio_041.mp3\n",
            "-rw------- 1 root root    7978 Apr  9 18:47 audio_042.docx\n",
            "-rw------- 1 root root  950609 Apr  9 18:47 audio_042.mp3\n",
            "-rw------- 1 root root    8075 Apr  9 18:47 audio_043.docx\n",
            "-rw------- 1 root root  972343 Apr  9 18:47 audio_043.mp3\n",
            "-rw------- 1 root root    8786 Apr  9 18:47 audio_044.docx\n",
            "-rw------- 1 root root 1007451 Apr  9 18:47 audio_044.mp3\n",
            "-rw------- 1 root root    8905 Apr  9 18:47 audio_045.docx\n",
            "-rw------- 1 root root 1053009 Apr  9 18:47 audio_045.mp3\n",
            "-rw------- 1 root root    9190 Apr  9 18:47 audio_046.docx\n",
            "-rw------- 1 root root 1432516 Apr  9 18:47 audio_046.mp3\n",
            "-rw------- 1 root root    8749 Apr  9 18:47 audio_047.docx\n",
            "-rw------- 1 root root 1224372 Apr  9 18:47 audio_047.mp3\n",
            "-rw------- 1 root root    8722 Apr  9 18:47 audio_048.docx\n",
            "-rw------- 1 root root 1157081 Apr  9 18:47 audio_048.mp3\n",
            "-rw------- 1 root root    8286 Apr  9 18:47 audio_049.docx\n",
            "-rw------- 1 root root  371883 Apr  9 18:47 audio_049.mp3\n",
            "-rw------- 1 root root    8824 Apr  9 18:47 audio_050.docx\n",
            "-rw------- 1 root root  703275 Apr  9 18:47 audio_050.mp3\n",
            "-rw------- 1 root root    8700 Apr  9 18:47 audio_051.docx\n",
            "-rw------- 1 root root  529323 Apr  9 18:47 audio_051.mp3\n",
            "-rw------- 1 root root    8525 Apr  9 18:47 audio_052.docx\n",
            "-rw------- 1 root root  464619 Apr  9 18:47 audio_052.mp3\n",
            "-rw------- 1 root root    8756 Apr  9 18:47 audio_053.docx\n",
            "-rw------- 1 root root  418347 Apr  9 18:47 audio_053.mp3\n",
            "-rw------- 1 root root    9625 Apr  9 18:47 audio_054.docx\n",
            "-rw------- 1 root root  926763 Apr  9 18:47 audio_054.mp3\n",
            "-rw------- 1 root root    8390 Apr  9 18:47 audio_055.docx\n",
            "-rw------- 1 root root  416427 Apr  9 18:47 audio_055.mp3\n",
            "-rw------- 1 root root    8609 Apr  9 18:47 audio_056.docx\n",
            "-rw------- 1 root root  431211 Apr  9 18:47 audio_056.mp3\n",
            "-rw------- 1 root root    8277 Apr  9 18:47 audio_057.docx\n",
            "-rw------- 1 root root  354411 Apr  9 18:47 audio_057.mp3\n",
            "-rw------- 1 root root    9257 Apr  9 18:47 audio_058.docx\n",
            "-rw------- 1 root root  645675 Apr  9 18:47 audio_058.mp3\n",
            "-rw------- 1 root root    8118 Apr  9 18:47 audio_059.docx\n",
            "-rw------- 1 root root  361131 Apr  9 18:47 audio_059.mp3\n",
            "-rw------- 1 root root    9070 Apr  9 18:47 audio_060.docx\n",
            "-rw------- 1 root root  529515 Apr  9 18:47 audio_060.mp3\n",
            "-rw------- 1 root root    9202 Apr  9 18:47 audio_061.docx\n",
            "-rw------- 1 root root  595755 Apr  9 18:47 audio_061.mp3\n",
            "-rw------- 1 root root    8401 Apr  9 18:47 audio_062.docx\n",
            "-rw------- 1 root root  411627 Apr  9 18:47 audio_062.mp3\n",
            "-rw------- 1 root root    9332 Apr  9 18:47 audio_063.docx\n",
            "-rw------- 1 root root  591531 Apr  9 18:47 audio_063.mp3\n",
            "-rw------- 1 root root    8350 Apr  9 18:47 audio_064.docx\n",
            "-rw------- 1 root root  769214 Apr  9 18:47 audio_064.mp3\n",
            "-rw------- 1 root root    7687 Apr  9 18:47 audio_065.docx\n",
            "-rw------- 1 root root  441534 Apr  9 18:47 audio_065.mp3\n",
            "-rw------- 1 root root    7997 Apr  9 18:47 audio_066.docx\n",
            "-rw------- 1 root root  470374 Apr  9 18:47 audio_066.mp3\n",
            "-rw------- 1 root root    7875 Apr  9 18:47 audio_067.docx\n",
            "-rw------- 1 root root  387200 Apr  9 18:47 audio_067.mp3\n",
            "-rw------- 1 root root    8222 Apr  9 18:47 audio_068.docx\n",
            "-rw------- 1 root root  632124 Apr  9 18:47 audio_068.mp3\n",
            "-rw------- 1 root root    7961 Apr  9 18:47 audio_069.docx\n",
            "-rw------- 1 root root  487510 Apr  9 18:47 audio_069.mp3\n",
            "-rw------- 1 root root    7945 Apr  9 18:47 audio_070.docx\n",
            "-rw------- 1 root root  523838 Apr  9 18:47 audio_070.mp3\n",
            "-rw------- 1 root root    8229 Apr  9 18:47 audio_071.docx\n",
            "-rw------- 1 root root  640449 Apr  9 18:47 audio_071.mp3\n",
            "-rw------- 1 root root    7904 Apr  9 18:47 audio_072.docx\n",
            "-rw------- 1 root root  539721 Apr  9 18:47 audio_072.mp3\n",
            "-rw------- 1 root root    7840 Apr  9 18:47 audio_073.docx\n",
            "-rw------- 1 root root  563545 Apr  9 18:47 audio_073.mp3\n",
            "-rw------- 1 root root    8084 Apr  9 18:47 audio_074.docx\n",
            "-rw------- 1 root root  788825 Apr  9 18:47 audio_074.mp3\n",
            "-rw------- 1 root root    8161 Apr  9 18:47 audio_075.docx\n",
            "-rw------- 1 root root  604087 Apr  9 18:47 audio_075.mp3\n",
            "-rw------- 1 root root    8554 Apr  9 18:47 audio_076.docx\n",
            "-rw------- 1 root root  983594 Apr  9 18:47 audio_076.mp3\n",
            "-rw------- 1 root root    7800 Apr  9 18:47 audio_077.docx\n",
            "-rw------- 1 root root  596563 Apr  9 18:47 audio_077.mp3\n",
            "-rw------- 1 root root    8199 Apr  9 18:47 audio_078.docx\n",
            "-rw------- 1 root root  663437 Apr  9 18:47 audio_078.mp3\n",
            "-rw------- 1 root root    8195 Apr  9 18:47 audio_079.docx\n",
            "-rw------- 1 root root  814738 Apr  9 18:47 audio_079.mp3\n",
            "-rw------- 1 root root    7831 Apr  9 18:47 audio_080.docx\n",
            "-rw------- 1 root root  585278 Apr  9 18:47 audio_080.mp3\n",
            "-rw------- 1 root root    9143 Apr  9 18:48 audio_081.docx\n",
            "-rw------- 1 root root 1351261 Apr  9 18:48 audio_081.mp3\n",
            "-rw------- 1 root root    9061 Apr  9 18:48 audio_082.docx\n",
            "-rw------- 1 root root 1253458 Apr  9 18:48 audio_082.mp3\n",
            "-rw------- 1 root root 1348508 Apr  9 18:48 audio_083.aac\n",
            "-rw------- 1 root root    8373 Apr  9 18:48 audio_083.docx\n",
            "-rw------- 1 root root 1237880 Apr  9 18:48 audio_084.aac\n",
            "-rw------- 1 root root    8030 Apr  9 18:48 audio_084.docx\n",
            "-rw------- 1 root root 1254076 Apr  9 18:48 audio_085.aac\n",
            "-rw------- 1 root root    8369 Apr  9 18:48 audio_085.docx\n",
            "-rw------- 1 root root  806845 Apr  9 18:48 audio_086.aac\n",
            "-rw------- 1 root root    7893 Apr  9 18:48 audio_086.docx\n",
            "-rw------- 1 root root  833681 Apr  9 18:48 audio_087.aac\n",
            "-rw------- 1 root root    7723 Apr  9 18:48 audio_087.docx\n",
            "-rw------- 1 root root    8372 Apr  9 18:48 audio_088.docx\n",
            "-rw------- 1 root root  642830 Apr  9 18:48 audio_088.m4a\n",
            "-rw------- 1 root root    7941 Apr  9 18:48 audio_089.docx\n",
            "-rw------- 1 root root  618417 Apr  9 18:48 audio_089.m4a\n",
            "-rw------- 1 root root    8448 Apr  9 18:48 audio_090.docx\n",
            "-rw------- 1 root root  301056 Apr  9 18:48 audio_090.m4a\n",
            "-rw------- 1 root root    8074 Apr  9 18:48 audio_091.docx\n",
            "-rw------- 1 root root  641294 Apr  9 18:48 audio_091.m4a\n",
            "-rw------- 1 root root    8099 Apr  9 18:48 audio_092.docx\n",
            "-rw------- 1 root root  837093 Apr  9 18:48 audio_092.m4a\n",
            "-rw------- 1 root root 1214640 Apr  9 18:48 audio_093.aac\n",
            "-rw------- 1 root root    9389 Apr  9 18:48 audio_093.docx\n",
            "-rw------- 1 root root 1162096 Apr  9 18:48 audio_094.aac\n",
            "-rw------- 1 root root    9408 Apr  9 18:48 audio_094.docx\n",
            "-rw------- 1 root root 1251812 Apr  9 18:48 audio_095.aac\n",
            "-rw------- 1 root root    8823 Apr  9 18:48 audio_095.docx\n",
            "-rw------- 1 root root 1390899 Apr  9 18:48 audio_096.aac\n",
            "-rw------- 1 root root    9565 Apr  9 18:48 audio_096.docx\n",
            "-rw------- 1 root root  754464 Apr  9 18:48 audio_097.aac\n",
            "-rw------- 1 root root    8677 Apr  9 18:48 audio_097.docx\n",
            "-rw------- 1 root root    9550 Apr  9 18:48 audio_098.docx\n",
            "-rw------- 1 root root 2000758 Apr  9 18:48 audio_098.m4a\n"
          ]
        }
      ]
    },
    {
      "cell_type": "code",
      "source": [
        "# prompt: resample all the audio files in the folder to 16kHz wav.\n",
        "\n",
        "import librosa\n",
        "import soundfile as sf\n",
        "import os\n",
        "\n",
        "# Assuming audio files are in /content/drive/MyDrive/training data\n",
        "# and you've already mounted your Google Drive\n",
        "\n",
        "for filename in os.listdir('/content/drive/MyDrive/training data'):\n",
        "  if filename.endswith(('.wav', '.mp3', '.ogg', 'm4a', 'aac')): # Add more extensions if needed\n",
        "    try:\n",
        "      filepath = os.path.join('/content/drive/MyDrive/training data', filename)\n",
        "      y, sr = librosa.load(filepath, sr=None) # Load with original sample rate\n",
        "      sf.write(os.path.splitext(filepath)[0] + '.wav', y, 16000) # Resample and save as WAV\n",
        "      print(f\"Processed {filename} to 16kHz\")\n",
        "\n",
        "    except Exception as e:\n",
        "      print(f\"Error processing {filename}: {e}\")\n"
      ],
      "metadata": {
        "colab": {
          "base_uri": "https://localhost:8080/"
        },
        "id": "Ya6vv_M8N3wO",
        "outputId": "8851b51a-513a-4f61-f2a8-97528046e4a9"
      },
      "execution_count": 6,
      "outputs": [
        {
          "output_type": "stream",
          "name": "stderr",
          "text": [
            "<ipython-input-6-af99ef7f4f92>:14: UserWarning: PySoundFile failed. Trying audioread instead.\n",
            "  y, sr = librosa.load(filepath, sr=None) # Load with original sample rate\n",
            "/usr/local/lib/python3.11/dist-packages/librosa/core/audio.py:184: FutureWarning: librosa.core.audio.__audioread_load\n",
            "\tDeprecated as of librosa version 0.10.0.\n",
            "\tIt will be removed in librosa version 1.0.\n",
            "  y, sr_native = __audioread_load(path, offset, duration, dtype)\n"
          ]
        },
        {
          "output_type": "stream",
          "name": "stdout",
          "text": [
            "Processed audio_003.m4a to 16kHz\n"
          ]
        },
        {
          "output_type": "stream",
          "name": "stderr",
          "text": [
            "<ipython-input-6-af99ef7f4f92>:14: UserWarning: PySoundFile failed. Trying audioread instead.\n",
            "  y, sr = librosa.load(filepath, sr=None) # Load with original sample rate\n",
            "/usr/local/lib/python3.11/dist-packages/librosa/core/audio.py:184: FutureWarning: librosa.core.audio.__audioread_load\n",
            "\tDeprecated as of librosa version 0.10.0.\n",
            "\tIt will be removed in librosa version 1.0.\n",
            "  y, sr_native = __audioread_load(path, offset, duration, dtype)\n"
          ]
        },
        {
          "output_type": "stream",
          "name": "stdout",
          "text": [
            "Processed audio_002.m4a to 16kHz\n"
          ]
        },
        {
          "output_type": "stream",
          "name": "stderr",
          "text": [
            "<ipython-input-6-af99ef7f4f92>:14: UserWarning: PySoundFile failed. Trying audioread instead.\n",
            "  y, sr = librosa.load(filepath, sr=None) # Load with original sample rate\n",
            "/usr/local/lib/python3.11/dist-packages/librosa/core/audio.py:184: FutureWarning: librosa.core.audio.__audioread_load\n",
            "\tDeprecated as of librosa version 0.10.0.\n",
            "\tIt will be removed in librosa version 1.0.\n",
            "  y, sr_native = __audioread_load(path, offset, duration, dtype)\n"
          ]
        },
        {
          "output_type": "stream",
          "name": "stdout",
          "text": [
            "Processed audio_006.aac to 16kHz\n"
          ]
        },
        {
          "output_type": "stream",
          "name": "stderr",
          "text": [
            "<ipython-input-6-af99ef7f4f92>:14: UserWarning: PySoundFile failed. Trying audioread instead.\n",
            "  y, sr = librosa.load(filepath, sr=None) # Load with original sample rate\n",
            "/usr/local/lib/python3.11/dist-packages/librosa/core/audio.py:184: FutureWarning: librosa.core.audio.__audioread_load\n",
            "\tDeprecated as of librosa version 0.10.0.\n",
            "\tIt will be removed in librosa version 1.0.\n",
            "  y, sr_native = __audioread_load(path, offset, duration, dtype)\n"
          ]
        },
        {
          "output_type": "stream",
          "name": "stdout",
          "text": [
            "Processed audio_001.m4a to 16kHz\n"
          ]
        },
        {
          "output_type": "stream",
          "name": "stderr",
          "text": [
            "<ipython-input-6-af99ef7f4f92>:14: UserWarning: PySoundFile failed. Trying audioread instead.\n",
            "  y, sr = librosa.load(filepath, sr=None) # Load with original sample rate\n",
            "/usr/local/lib/python3.11/dist-packages/librosa/core/audio.py:184: FutureWarning: librosa.core.audio.__audioread_load\n",
            "\tDeprecated as of librosa version 0.10.0.\n",
            "\tIt will be removed in librosa version 1.0.\n",
            "  y, sr_native = __audioread_load(path, offset, duration, dtype)\n"
          ]
        },
        {
          "output_type": "stream",
          "name": "stdout",
          "text": [
            "Processed audio_004.m4a to 16kHz\n"
          ]
        },
        {
          "output_type": "stream",
          "name": "stderr",
          "text": [
            "<ipython-input-6-af99ef7f4f92>:14: UserWarning: PySoundFile failed. Trying audioread instead.\n",
            "  y, sr = librosa.load(filepath, sr=None) # Load with original sample rate\n",
            "/usr/local/lib/python3.11/dist-packages/librosa/core/audio.py:184: FutureWarning: librosa.core.audio.__audioread_load\n",
            "\tDeprecated as of librosa version 0.10.0.\n",
            "\tIt will be removed in librosa version 1.0.\n",
            "  y, sr_native = __audioread_load(path, offset, duration, dtype)\n"
          ]
        },
        {
          "output_type": "stream",
          "name": "stdout",
          "text": [
            "Processed audio_007.aac to 16kHz\n"
          ]
        },
        {
          "output_type": "stream",
          "name": "stderr",
          "text": [
            "<ipython-input-6-af99ef7f4f92>:14: UserWarning: PySoundFile failed. Trying audioread instead.\n",
            "  y, sr = librosa.load(filepath, sr=None) # Load with original sample rate\n",
            "/usr/local/lib/python3.11/dist-packages/librosa/core/audio.py:184: FutureWarning: librosa.core.audio.__audioread_load\n",
            "\tDeprecated as of librosa version 0.10.0.\n",
            "\tIt will be removed in librosa version 1.0.\n",
            "  y, sr_native = __audioread_load(path, offset, duration, dtype)\n"
          ]
        },
        {
          "output_type": "stream",
          "name": "stdout",
          "text": [
            "Processed audio_011.m4a to 16kHz\n"
          ]
        },
        {
          "output_type": "stream",
          "name": "stderr",
          "text": [
            "<ipython-input-6-af99ef7f4f92>:14: UserWarning: PySoundFile failed. Trying audioread instead.\n",
            "  y, sr = librosa.load(filepath, sr=None) # Load with original sample rate\n",
            "/usr/local/lib/python3.11/dist-packages/librosa/core/audio.py:184: FutureWarning: librosa.core.audio.__audioread_load\n",
            "\tDeprecated as of librosa version 0.10.0.\n",
            "\tIt will be removed in librosa version 1.0.\n",
            "  y, sr_native = __audioread_load(path, offset, duration, dtype)\n"
          ]
        },
        {
          "output_type": "stream",
          "name": "stdout",
          "text": [
            "Processed audio_013.m4a to 16kHz\n"
          ]
        },
        {
          "output_type": "stream",
          "name": "stderr",
          "text": [
            "<ipython-input-6-af99ef7f4f92>:14: UserWarning: PySoundFile failed. Trying audioread instead.\n",
            "  y, sr = librosa.load(filepath, sr=None) # Load with original sample rate\n",
            "/usr/local/lib/python3.11/dist-packages/librosa/core/audio.py:184: FutureWarning: librosa.core.audio.__audioread_load\n",
            "\tDeprecated as of librosa version 0.10.0.\n",
            "\tIt will be removed in librosa version 1.0.\n",
            "  y, sr_native = __audioread_load(path, offset, duration, dtype)\n"
          ]
        },
        {
          "output_type": "stream",
          "name": "stdout",
          "text": [
            "Processed audio_005.m4a to 16kHz\n"
          ]
        },
        {
          "output_type": "stream",
          "name": "stderr",
          "text": [
            "<ipython-input-6-af99ef7f4f92>:14: UserWarning: PySoundFile failed. Trying audioread instead.\n",
            "  y, sr = librosa.load(filepath, sr=None) # Load with original sample rate\n",
            "/usr/local/lib/python3.11/dist-packages/librosa/core/audio.py:184: FutureWarning: librosa.core.audio.__audioread_load\n",
            "\tDeprecated as of librosa version 0.10.0.\n",
            "\tIt will be removed in librosa version 1.0.\n",
            "  y, sr_native = __audioread_load(path, offset, duration, dtype)\n"
          ]
        },
        {
          "output_type": "stream",
          "name": "stdout",
          "text": [
            "Processed audio_012.m4a to 16kHz\n",
            "Processed audio_050.mp3 to 16kHz\n",
            "Processed audio_062.mp3 to 16kHz\n",
            "Processed audio_055.mp3 to 16kHz\n",
            "Processed audio_060.mp3 to 16kHz\n",
            "Processed audio_053.mp3 to 16kHz\n",
            "Processed audio_049.mp3 to 16kHz\n",
            "Processed audio_052.mp3 to 16kHz\n",
            "Processed audio_061.mp3 to 16kHz\n",
            "Processed audio_051.mp3 to 16kHz\n",
            "Processed audio_058.mp3 to 16kHz\n",
            "Processed audio_054.mp3 to 16kHz\n",
            "Processed audio_063.mp3 to 16kHz\n",
            "Processed audio_059.mp3 to 16kHz\n",
            "Processed audio_056.mp3 to 16kHz\n",
            "Processed audio_057.mp3 to 16kHz\n",
            "Processed audio_068.mp3 to 16kHz\n",
            "Processed audio_076.mp3 to 16kHz\n",
            "Processed audio_073.mp3 to 16kHz\n",
            "Processed audio_077.mp3 to 16kHz\n",
            "Processed audio_069.mp3 to 16kHz\n",
            "Processed audio_065.mp3 to 16kHz\n",
            "Processed audio_074.mp3 to 16kHz\n",
            "Processed audio_080.mp3 to 16kHz\n",
            "Processed audio_070.mp3 to 16kHz\n",
            "Processed audio_066.mp3 to 16kHz\n",
            "Processed audio_064.mp3 to 16kHz\n",
            "Processed audio_071.mp3 to 16kHz\n",
            "Processed audio_078.mp3 to 16kHz\n",
            "Processed audio_067.mp3 to 16kHz\n",
            "Processed audio_075.mp3 to 16kHz\n",
            "Processed audio_072.mp3 to 16kHz\n",
            "Processed audio_079.mp3 to 16kHz\n",
            "Processed audio_027.mp3 to 16kHz\n",
            "Processed audio_023.mp3 to 16kHz\n",
            "Processed audio_026.mp3 to 16kHz\n",
            "Processed audio_033.mp3 to 16kHz\n",
            "Processed audio_020.mp3 to 16kHz\n",
            "Processed audio_022.mp3 to 16kHz\n",
            "Processed audio_024.mp3 to 16kHz\n",
            "Processed audio_034.mp3 to 16kHz\n",
            "Processed audio_028.mp3 to 16kHz\n",
            "Processed audio_031.mp3 to 16kHz\n",
            "Processed audio_030.mp3 to 16kHz\n",
            "Processed audio_021.mp3 to 16kHz\n",
            "Processed audio_025.mp3 to 16kHz\n",
            "Processed audio_032.mp3 to 16kHz\n",
            "Processed audio_029.mp3 to 16kHz\n",
            "Processed audio_042.mp3 to 16kHz\n",
            "Processed audio_041.mp3 to 16kHz\n",
            "Processed audio_047.mp3 to 16kHz\n",
            "Processed audio_043.mp3 to 16kHz\n",
            "Processed audio_038.mp3 to 16kHz\n",
            "Processed audio_040.mp3 to 16kHz\n",
            "Processed audio_036.mp3 to 16kHz\n",
            "Processed audio_044.mp3 to 16kHz\n",
            "Processed audio_046.mp3 to 16kHz\n",
            "Processed audio_048.mp3 to 16kHz\n",
            "Processed audio_039.mp3 to 16kHz\n",
            "Processed audio_037.mp3 to 16kHz\n",
            "Processed audio_035.mp3 to 16kHz\n",
            "Processed audio_045.mp3 to 16kHz\n"
          ]
        },
        {
          "output_type": "stream",
          "name": "stderr",
          "text": [
            "<ipython-input-6-af99ef7f4f92>:14: UserWarning: PySoundFile failed. Trying audioread instead.\n",
            "  y, sr = librosa.load(filepath, sr=None) # Load with original sample rate\n",
            "/usr/local/lib/python3.11/dist-packages/librosa/core/audio.py:184: FutureWarning: librosa.core.audio.__audioread_load\n",
            "\tDeprecated as of librosa version 0.10.0.\n",
            "\tIt will be removed in librosa version 1.0.\n",
            "  y, sr_native = __audioread_load(path, offset, duration, dtype)\n"
          ]
        },
        {
          "output_type": "stream",
          "name": "stdout",
          "text": [
            "Processed audio_083.aac to 16kHz\n"
          ]
        },
        {
          "output_type": "stream",
          "name": "stderr",
          "text": [
            "<ipython-input-6-af99ef7f4f92>:14: UserWarning: PySoundFile failed. Trying audioread instead.\n",
            "  y, sr = librosa.load(filepath, sr=None) # Load with original sample rate\n",
            "/usr/local/lib/python3.11/dist-packages/librosa/core/audio.py:184: FutureWarning: librosa.core.audio.__audioread_load\n",
            "\tDeprecated as of librosa version 0.10.0.\n",
            "\tIt will be removed in librosa version 1.0.\n",
            "  y, sr_native = __audioread_load(path, offset, duration, dtype)\n"
          ]
        },
        {
          "output_type": "stream",
          "name": "stdout",
          "text": [
            "Processed audio_094.aac to 16kHz\n"
          ]
        },
        {
          "output_type": "stream",
          "name": "stderr",
          "text": [
            "<ipython-input-6-af99ef7f4f92>:14: UserWarning: PySoundFile failed. Trying audioread instead.\n",
            "  y, sr = librosa.load(filepath, sr=None) # Load with original sample rate\n",
            "/usr/local/lib/python3.11/dist-packages/librosa/core/audio.py:184: FutureWarning: librosa.core.audio.__audioread_load\n",
            "\tDeprecated as of librosa version 0.10.0.\n",
            "\tIt will be removed in librosa version 1.0.\n",
            "  y, sr_native = __audioread_load(path, offset, duration, dtype)\n"
          ]
        },
        {
          "output_type": "stream",
          "name": "stdout",
          "text": [
            "Processed audio_087.aac to 16kHz\n"
          ]
        },
        {
          "output_type": "stream",
          "name": "stderr",
          "text": [
            "<ipython-input-6-af99ef7f4f92>:14: UserWarning: PySoundFile failed. Trying audioread instead.\n",
            "  y, sr = librosa.load(filepath, sr=None) # Load with original sample rate\n",
            "/usr/local/lib/python3.11/dist-packages/librosa/core/audio.py:184: FutureWarning: librosa.core.audio.__audioread_load\n",
            "\tDeprecated as of librosa version 0.10.0.\n",
            "\tIt will be removed in librosa version 1.0.\n",
            "  y, sr_native = __audioread_load(path, offset, duration, dtype)\n"
          ]
        },
        {
          "output_type": "stream",
          "name": "stdout",
          "text": [
            "Processed audio_088.m4a to 16kHz\n",
            "Processed audio_090.m4a to 16kHz\n",
            "Processed audio_082.mp3 to 16kHz\n"
          ]
        },
        {
          "output_type": "stream",
          "name": "stderr",
          "text": [
            "<ipython-input-6-af99ef7f4f92>:14: UserWarning: PySoundFile failed. Trying audioread instead.\n",
            "  y, sr = librosa.load(filepath, sr=None) # Load with original sample rate\n",
            "/usr/local/lib/python3.11/dist-packages/librosa/core/audio.py:184: FutureWarning: librosa.core.audio.__audioread_load\n",
            "\tDeprecated as of librosa version 0.10.0.\n",
            "\tIt will be removed in librosa version 1.0.\n",
            "  y, sr_native = __audioread_load(path, offset, duration, dtype)\n"
          ]
        },
        {
          "output_type": "stream",
          "name": "stdout",
          "text": [
            "Processed audio_089.m4a to 16kHz\n"
          ]
        },
        {
          "output_type": "stream",
          "name": "stderr",
          "text": [
            "<ipython-input-6-af99ef7f4f92>:14: UserWarning: PySoundFile failed. Trying audioread instead.\n",
            "  y, sr = librosa.load(filepath, sr=None) # Load with original sample rate\n",
            "/usr/local/lib/python3.11/dist-packages/librosa/core/audio.py:184: FutureWarning: librosa.core.audio.__audioread_load\n",
            "\tDeprecated as of librosa version 0.10.0.\n",
            "\tIt will be removed in librosa version 1.0.\n",
            "  y, sr_native = __audioread_load(path, offset, duration, dtype)\n"
          ]
        },
        {
          "output_type": "stream",
          "name": "stdout",
          "text": [
            "Processed audio_092.m4a to 16kHz\n"
          ]
        },
        {
          "output_type": "stream",
          "name": "stderr",
          "text": [
            "<ipython-input-6-af99ef7f4f92>:14: UserWarning: PySoundFile failed. Trying audioread instead.\n",
            "  y, sr = librosa.load(filepath, sr=None) # Load with original sample rate\n",
            "/usr/local/lib/python3.11/dist-packages/librosa/core/audio.py:184: FutureWarning: librosa.core.audio.__audioread_load\n",
            "\tDeprecated as of librosa version 0.10.0.\n",
            "\tIt will be removed in librosa version 1.0.\n",
            "  y, sr_native = __audioread_load(path, offset, duration, dtype)\n"
          ]
        },
        {
          "output_type": "stream",
          "name": "stdout",
          "text": [
            "Processed audio_097.aac to 16kHz\n"
          ]
        },
        {
          "output_type": "stream",
          "name": "stderr",
          "text": [
            "<ipython-input-6-af99ef7f4f92>:14: UserWarning: PySoundFile failed. Trying audioread instead.\n",
            "  y, sr = librosa.load(filepath, sr=None) # Load with original sample rate\n",
            "/usr/local/lib/python3.11/dist-packages/librosa/core/audio.py:184: FutureWarning: librosa.core.audio.__audioread_load\n",
            "\tDeprecated as of librosa version 0.10.0.\n",
            "\tIt will be removed in librosa version 1.0.\n",
            "  y, sr_native = __audioread_load(path, offset, duration, dtype)\n"
          ]
        },
        {
          "output_type": "stream",
          "name": "stdout",
          "text": [
            "Processed audio_086.aac to 16kHz\n"
          ]
        },
        {
          "output_type": "stream",
          "name": "stderr",
          "text": [
            "<ipython-input-6-af99ef7f4f92>:14: UserWarning: PySoundFile failed. Trying audioread instead.\n",
            "  y, sr = librosa.load(filepath, sr=None) # Load with original sample rate\n",
            "/usr/local/lib/python3.11/dist-packages/librosa/core/audio.py:184: FutureWarning: librosa.core.audio.__audioread_load\n",
            "\tDeprecated as of librosa version 0.10.0.\n",
            "\tIt will be removed in librosa version 1.0.\n",
            "  y, sr_native = __audioread_load(path, offset, duration, dtype)\n"
          ]
        },
        {
          "output_type": "stream",
          "name": "stdout",
          "text": [
            "Processed audio_095.aac to 16kHz\n"
          ]
        },
        {
          "output_type": "stream",
          "name": "stderr",
          "text": [
            "<ipython-input-6-af99ef7f4f92>:14: UserWarning: PySoundFile failed. Trying audioread instead.\n",
            "  y, sr = librosa.load(filepath, sr=None) # Load with original sample rate\n",
            "/usr/local/lib/python3.11/dist-packages/librosa/core/audio.py:184: FutureWarning: librosa.core.audio.__audioread_load\n",
            "\tDeprecated as of librosa version 0.10.0.\n",
            "\tIt will be removed in librosa version 1.0.\n",
            "  y, sr_native = __audioread_load(path, offset, duration, dtype)\n"
          ]
        },
        {
          "output_type": "stream",
          "name": "stdout",
          "text": [
            "Processed audio_085.aac to 16kHz\n"
          ]
        },
        {
          "output_type": "stream",
          "name": "stderr",
          "text": [
            "<ipython-input-6-af99ef7f4f92>:14: UserWarning: PySoundFile failed. Trying audioread instead.\n",
            "  y, sr = librosa.load(filepath, sr=None) # Load with original sample rate\n",
            "/usr/local/lib/python3.11/dist-packages/librosa/core/audio.py:184: FutureWarning: librosa.core.audio.__audioread_load\n",
            "\tDeprecated as of librosa version 0.10.0.\n",
            "\tIt will be removed in librosa version 1.0.\n",
            "  y, sr_native = __audioread_load(path, offset, duration, dtype)\n"
          ]
        },
        {
          "output_type": "stream",
          "name": "stdout",
          "text": [
            "Processed audio_093.aac to 16kHz\n",
            "Processed audio_081.mp3 to 16kHz\n"
          ]
        },
        {
          "output_type": "stream",
          "name": "stderr",
          "text": [
            "<ipython-input-6-af99ef7f4f92>:14: UserWarning: PySoundFile failed. Trying audioread instead.\n",
            "  y, sr = librosa.load(filepath, sr=None) # Load with original sample rate\n",
            "/usr/local/lib/python3.11/dist-packages/librosa/core/audio.py:184: FutureWarning: librosa.core.audio.__audioread_load\n",
            "\tDeprecated as of librosa version 0.10.0.\n",
            "\tIt will be removed in librosa version 1.0.\n",
            "  y, sr_native = __audioread_load(path, offset, duration, dtype)\n"
          ]
        },
        {
          "output_type": "stream",
          "name": "stdout",
          "text": [
            "Processed audio_096.aac to 16kHz\n"
          ]
        },
        {
          "output_type": "stream",
          "name": "stderr",
          "text": [
            "<ipython-input-6-af99ef7f4f92>:14: UserWarning: PySoundFile failed. Trying audioread instead.\n",
            "  y, sr = librosa.load(filepath, sr=None) # Load with original sample rate\n",
            "/usr/local/lib/python3.11/dist-packages/librosa/core/audio.py:184: FutureWarning: librosa.core.audio.__audioread_load\n",
            "\tDeprecated as of librosa version 0.10.0.\n",
            "\tIt will be removed in librosa version 1.0.\n",
            "  y, sr_native = __audioread_load(path, offset, duration, dtype)\n"
          ]
        },
        {
          "output_type": "stream",
          "name": "stdout",
          "text": [
            "Processed audio_084.aac to 16kHz\n"
          ]
        },
        {
          "output_type": "stream",
          "name": "stderr",
          "text": [
            "<ipython-input-6-af99ef7f4f92>:14: UserWarning: PySoundFile failed. Trying audioread instead.\n",
            "  y, sr = librosa.load(filepath, sr=None) # Load with original sample rate\n",
            "/usr/local/lib/python3.11/dist-packages/librosa/core/audio.py:184: FutureWarning: librosa.core.audio.__audioread_load\n",
            "\tDeprecated as of librosa version 0.10.0.\n",
            "\tIt will be removed in librosa version 1.0.\n",
            "  y, sr_native = __audioread_load(path, offset, duration, dtype)\n"
          ]
        },
        {
          "output_type": "stream",
          "name": "stdout",
          "text": [
            "Processed audio_091.m4a to 16kHz\n"
          ]
        },
        {
          "output_type": "stream",
          "name": "stderr",
          "text": [
            "<ipython-input-6-af99ef7f4f92>:14: UserWarning: PySoundFile failed. Trying audioread instead.\n",
            "  y, sr = librosa.load(filepath, sr=None) # Load with original sample rate\n",
            "/usr/local/lib/python3.11/dist-packages/librosa/core/audio.py:184: FutureWarning: librosa.core.audio.__audioread_load\n",
            "\tDeprecated as of librosa version 0.10.0.\n",
            "\tIt will be removed in librosa version 1.0.\n",
            "  y, sr_native = __audioread_load(path, offset, duration, dtype)\n"
          ]
        },
        {
          "output_type": "stream",
          "name": "stdout",
          "text": [
            "Processed audio_098.m4a to 16kHz\n"
          ]
        }
      ]
    },
    {
      "cell_type": "code",
      "source": [
        "# # prompt: remove all the .wav files from the folder.\n",
        "\n",
        "# !find /content/drive/MyDrive/training\\ data -name \"*.wav\" -delete\n"
      ],
      "metadata": {
        "id": "NZgylbNMRCYD"
      },
      "execution_count": 5,
      "outputs": []
    },
    {
      "cell_type": "code",
      "source": [
        "!pip install python-docx\n",
        "import os, pandas as pd\n",
        "import re\n",
        "from docx import Document\n",
        "import os\n",
        "import csv\n",
        "from docx import Document"
      ],
      "metadata": {
        "colab": {
          "base_uri": "https://localhost:8080/"
        },
        "id": "sCcNrTEQkVR-",
        "outputId": "d403b97b-d5c5-46fe-a25e-c3c938ad7b7f"
      },
      "execution_count": 3,
      "outputs": [
        {
          "output_type": "stream",
          "name": "stdout",
          "text": [
            "Collecting python-docx\n",
            "  Downloading python_docx-1.1.2-py3-none-any.whl.metadata (2.0 kB)\n",
            "Requirement already satisfied: lxml>=3.1.0 in /usr/local/lib/python3.11/dist-packages (from python-docx) (5.3.1)\n",
            "Requirement already satisfied: typing-extensions>=4.9.0 in /usr/local/lib/python3.11/dist-packages (from python-docx) (4.13.1)\n",
            "Downloading python_docx-1.1.2-py3-none-any.whl (244 kB)\n",
            "\u001b[?25l   \u001b[90m━━━━━━━━━━━━━━━━━━━━━━━━━━━━━━━━━━━━━━━━\u001b[0m \u001b[32m0.0/244.3 kB\u001b[0m \u001b[31m?\u001b[0m eta \u001b[36m-:--:--\u001b[0m\r\u001b[2K   \u001b[90m━━━━━━━━━━━━━━━━━━━━━━━━━━━━━━━━━━━━━━━━\u001b[0m \u001b[32m244.3/244.3 kB\u001b[0m \u001b[31m19.2 MB/s\u001b[0m eta \u001b[36m0:00:00\u001b[0m\n",
            "\u001b[?25hInstalling collected packages: python-docx\n",
            "Successfully installed python-docx-1.1.2\n"
          ]
        }
      ]
    },
    {
      "cell_type": "code",
      "source": [
        "def clean_text(file_content):\n",
        "    # Remove everything within square brackets, including the brackets themselves\n",
        "    cleaned_text = re.sub(r'\\[.*?\\]', '', file_content)\n",
        "\n",
        "    # Remove everything after the word \"Translation\"\n",
        "    cleaned_text = re.sub(r'Translation.*', '', cleaned_text)\n",
        "\n",
        "    # Remove any unwanted characters such as punctuation, numbers, and anything that's not Amharic\n",
        "    cleaned_text = re.sub(r'[^\\u1200-\\u137F\\s]', '', cleaned_text)  # Amharic Unicode range\n",
        "\n",
        "    # Remove empty lines\n",
        "    cleaned_text = re.sub(r'^\\s*$', '', cleaned_text, flags=re.MULTILINE)\n",
        "\n",
        "    # Remove extra spaces\n",
        "    cleaned_text = re.sub(r'\\s+', ' ', cleaned_text)\n",
        "\n",
        "    return cleaned_text.strip()\n",
        "\n",
        "def clean_docx(file_path):\n",
        "    # Open the docx file\n",
        "    doc = Document(file_path)\n",
        "\n",
        "    # Loop through each paragraph and clean the text\n",
        "    cleaned_paragraphs = []\n",
        "    for para in doc.paragraphs:\n",
        "        cleaned_paragraphs.append(clean_text(para.text))\n",
        "\n",
        "    # Create a new document and add the cleaned paragraphs\n",
        "    new_doc = Document()\n",
        "    for para in cleaned_paragraphs:\n",
        "        new_doc.add_paragraph(para)\n",
        "\n",
        "    # Save the cleaned document\n",
        "    new_doc.save(file_path)\n",
        "\n",
        "def clean_transcriptions(folder_path):\n",
        "    # List all files in the folder\n",
        "    for filename in os.listdir(folder_path):\n",
        "        # Check if the file is a .docx file\n",
        "        if filename.endswith(\".docx\"):\n",
        "            file_path = os.path.join(folder_path, filename)\n",
        "            print(f\"Cleaning file: {file_path}\")\n",
        "            clean_docx(file_path)\n",
        "            print(f\"File cleaned and saved: {file_path}\")\n",
        "\n",
        "# Example usage:\n",
        "folder_path = \"/content/drive/MyDrive/training data\"\n",
        "clean_transcriptions(folder_path)\n"
      ],
      "metadata": {
        "colab": {
          "base_uri": "https://localhost:8080/"
        },
        "id": "2ThhM4A7Rmz8",
        "outputId": "1f59c4ee-dd48-49a9-820c-c36296b23855"
      },
      "execution_count": 8,
      "outputs": [
        {
          "output_type": "stream",
          "name": "stdout",
          "text": [
            "Collecting python-docx\n",
            "  Downloading python_docx-1.1.2-py3-none-any.whl.metadata (2.0 kB)\n",
            "Requirement already satisfied: lxml>=3.1.0 in /usr/local/lib/python3.11/dist-packages (from python-docx) (5.3.1)\n",
            "Requirement already satisfied: typing-extensions>=4.9.0 in /usr/local/lib/python3.11/dist-packages (from python-docx) (4.13.1)\n",
            "Downloading python_docx-1.1.2-py3-none-any.whl (244 kB)\n",
            "\u001b[?25l   \u001b[90m━━━━━━━━━━━━━━━━━━━━━━━━━━━━━━━━━━━━━━━━\u001b[0m \u001b[32m0.0/244.3 kB\u001b[0m \u001b[31m?\u001b[0m eta \u001b[36m-:--:--\u001b[0m\r\u001b[2K   \u001b[90m━━━━━━━━━━━━━━━━━━━━━━━━━━━━━━━━━━━━━━━━\u001b[0m \u001b[32m244.3/244.3 kB\u001b[0m \u001b[31m8.0 MB/s\u001b[0m eta \u001b[36m0:00:00\u001b[0m\n",
            "\u001b[?25hInstalling collected packages: python-docx\n",
            "Successfully installed python-docx-1.1.2\n",
            "Cleaning file: /content/drive/MyDrive/training data/audio_015.docx\n",
            "File cleaned and saved: /content/drive/MyDrive/training data/audio_015.docx\n",
            "Cleaning file: /content/drive/MyDrive/training data/audio_008.docx\n",
            "File cleaned and saved: /content/drive/MyDrive/training data/audio_008.docx\n",
            "Cleaning file: /content/drive/MyDrive/training data/audio_010.docx\n",
            "File cleaned and saved: /content/drive/MyDrive/training data/audio_010.docx\n",
            "Cleaning file: /content/drive/MyDrive/training data/audio_006.docx\n",
            "File cleaned and saved: /content/drive/MyDrive/training data/audio_006.docx\n",
            "Cleaning file: /content/drive/MyDrive/training data/audio_009.docx\n",
            "File cleaned and saved: /content/drive/MyDrive/training data/audio_009.docx\n",
            "Cleaning file: /content/drive/MyDrive/training data/audio_001.docx\n",
            "File cleaned and saved: /content/drive/MyDrive/training data/audio_001.docx\n",
            "Cleaning file: /content/drive/MyDrive/training data/audio_003.docx\n",
            "File cleaned and saved: /content/drive/MyDrive/training data/audio_003.docx\n",
            "Cleaning file: /content/drive/MyDrive/training data/audio_007.docx\n",
            "File cleaned and saved: /content/drive/MyDrive/training data/audio_007.docx\n",
            "Cleaning file: /content/drive/MyDrive/training data/audio_002.docx\n",
            "File cleaned and saved: /content/drive/MyDrive/training data/audio_002.docx\n",
            "Cleaning file: /content/drive/MyDrive/training data/audio_005.docx\n",
            "File cleaned and saved: /content/drive/MyDrive/training data/audio_005.docx\n",
            "Cleaning file: /content/drive/MyDrive/training data/audio_004.docx\n",
            "File cleaned and saved: /content/drive/MyDrive/training data/audio_004.docx\n",
            "Cleaning file: /content/drive/MyDrive/training data/audio_014.docx\n",
            "File cleaned and saved: /content/drive/MyDrive/training data/audio_014.docx\n",
            "Cleaning file: /content/drive/MyDrive/training data/audio_013.docx\n",
            "File cleaned and saved: /content/drive/MyDrive/training data/audio_013.docx\n",
            "Cleaning file: /content/drive/MyDrive/training data/audio_012.docx\n",
            "File cleaned and saved: /content/drive/MyDrive/training data/audio_012.docx\n",
            "Cleaning file: /content/drive/MyDrive/training data/audio_011.docx\n",
            "File cleaned and saved: /content/drive/MyDrive/training data/audio_011.docx\n",
            "Cleaning file: /content/drive/MyDrive/training data/audio_052.docx\n",
            "File cleaned and saved: /content/drive/MyDrive/training data/audio_052.docx\n",
            "Cleaning file: /content/drive/MyDrive/training data/audio_049.docx\n",
            "File cleaned and saved: /content/drive/MyDrive/training data/audio_049.docx\n",
            "Cleaning file: /content/drive/MyDrive/training data/audio_059.docx\n",
            "File cleaned and saved: /content/drive/MyDrive/training data/audio_059.docx\n",
            "Cleaning file: /content/drive/MyDrive/training data/audio_051.docx\n",
            "File cleaned and saved: /content/drive/MyDrive/training data/audio_051.docx\n",
            "Cleaning file: /content/drive/MyDrive/training data/audio_053.docx\n",
            "File cleaned and saved: /content/drive/MyDrive/training data/audio_053.docx\n",
            "Cleaning file: /content/drive/MyDrive/training data/audio_061.docx\n",
            "File cleaned and saved: /content/drive/MyDrive/training data/audio_061.docx\n",
            "Cleaning file: /content/drive/MyDrive/training data/audio_057.docx\n",
            "File cleaned and saved: /content/drive/MyDrive/training data/audio_057.docx\n",
            "Cleaning file: /content/drive/MyDrive/training data/audio_060.docx\n",
            "File cleaned and saved: /content/drive/MyDrive/training data/audio_060.docx\n",
            "Cleaning file: /content/drive/MyDrive/training data/audio_058.docx\n",
            "File cleaned and saved: /content/drive/MyDrive/training data/audio_058.docx\n",
            "Cleaning file: /content/drive/MyDrive/training data/audio_055.docx\n",
            "File cleaned and saved: /content/drive/MyDrive/training data/audio_055.docx\n",
            "Cleaning file: /content/drive/MyDrive/training data/audio_050.docx\n",
            "File cleaned and saved: /content/drive/MyDrive/training data/audio_050.docx\n",
            "Cleaning file: /content/drive/MyDrive/training data/audio_056.docx\n",
            "File cleaned and saved: /content/drive/MyDrive/training data/audio_056.docx\n",
            "Cleaning file: /content/drive/MyDrive/training data/audio_054.docx\n",
            "File cleaned and saved: /content/drive/MyDrive/training data/audio_054.docx\n",
            "Cleaning file: /content/drive/MyDrive/training data/audio_062.docx\n",
            "File cleaned and saved: /content/drive/MyDrive/training data/audio_062.docx\n",
            "Cleaning file: /content/drive/MyDrive/training data/audio_063.docx\n",
            "File cleaned and saved: /content/drive/MyDrive/training data/audio_063.docx\n",
            "Cleaning file: /content/drive/MyDrive/training data/audio_078.docx\n",
            "File cleaned and saved: /content/drive/MyDrive/training data/audio_078.docx\n",
            "Cleaning file: /content/drive/MyDrive/training data/audio_077.docx\n",
            "File cleaned and saved: /content/drive/MyDrive/training data/audio_077.docx\n",
            "Cleaning file: /content/drive/MyDrive/training data/audio_079.docx\n",
            "File cleaned and saved: /content/drive/MyDrive/training data/audio_079.docx\n",
            "Cleaning file: /content/drive/MyDrive/training data/audio_064.docx\n",
            "File cleaned and saved: /content/drive/MyDrive/training data/audio_064.docx\n",
            "Cleaning file: /content/drive/MyDrive/training data/audio_065.docx\n",
            "File cleaned and saved: /content/drive/MyDrive/training data/audio_065.docx\n",
            "Cleaning file: /content/drive/MyDrive/training data/audio_066.docx\n",
            "File cleaned and saved: /content/drive/MyDrive/training data/audio_066.docx\n",
            "Cleaning file: /content/drive/MyDrive/training data/audio_069.docx\n",
            "File cleaned and saved: /content/drive/MyDrive/training data/audio_069.docx\n",
            "Cleaning file: /content/drive/MyDrive/training data/audio_070.docx\n",
            "File cleaned and saved: /content/drive/MyDrive/training data/audio_070.docx\n",
            "Cleaning file: /content/drive/MyDrive/training data/audio_072.docx\n",
            "File cleaned and saved: /content/drive/MyDrive/training data/audio_072.docx\n",
            "Cleaning file: /content/drive/MyDrive/training data/audio_068.docx\n",
            "File cleaned and saved: /content/drive/MyDrive/training data/audio_068.docx\n",
            "Cleaning file: /content/drive/MyDrive/training data/audio_073.docx\n",
            "File cleaned and saved: /content/drive/MyDrive/training data/audio_073.docx\n",
            "Cleaning file: /content/drive/MyDrive/training data/audio_076.docx\n",
            "File cleaned and saved: /content/drive/MyDrive/training data/audio_076.docx\n",
            "Cleaning file: /content/drive/MyDrive/training data/audio_080.docx\n",
            "File cleaned and saved: /content/drive/MyDrive/training data/audio_080.docx\n",
            "Cleaning file: /content/drive/MyDrive/training data/audio_075.docx\n",
            "File cleaned and saved: /content/drive/MyDrive/training data/audio_075.docx\n",
            "Cleaning file: /content/drive/MyDrive/training data/audio_067.docx\n",
            "File cleaned and saved: /content/drive/MyDrive/training data/audio_067.docx\n",
            "Cleaning file: /content/drive/MyDrive/training data/audio_071.docx\n",
            "File cleaned and saved: /content/drive/MyDrive/training data/audio_071.docx\n",
            "Cleaning file: /content/drive/MyDrive/training data/audio_074.docx\n",
            "File cleaned and saved: /content/drive/MyDrive/training data/audio_074.docx\n",
            "Cleaning file: /content/drive/MyDrive/training data/audio_028.docx\n",
            "File cleaned and saved: /content/drive/MyDrive/training data/audio_028.docx\n",
            "Cleaning file: /content/drive/MyDrive/training data/audio_034.docx\n",
            "File cleaned and saved: /content/drive/MyDrive/training data/audio_034.docx\n",
            "Cleaning file: /content/drive/MyDrive/training data/audio_033.docx\n",
            "File cleaned and saved: /content/drive/MyDrive/training data/audio_033.docx\n",
            "Cleaning file: /content/drive/MyDrive/training data/audio_025.docx\n",
            "File cleaned and saved: /content/drive/MyDrive/training data/audio_025.docx\n",
            "Cleaning file: /content/drive/MyDrive/training data/audio_030.docx\n",
            "File cleaned and saved: /content/drive/MyDrive/training data/audio_030.docx\n",
            "Cleaning file: /content/drive/MyDrive/training data/audio_031.docx\n",
            "File cleaned and saved: /content/drive/MyDrive/training data/audio_031.docx\n",
            "Cleaning file: /content/drive/MyDrive/training data/audio_020.docx\n",
            "File cleaned and saved: /content/drive/MyDrive/training data/audio_020.docx\n",
            "Cleaning file: /content/drive/MyDrive/training data/audio_026.docx\n",
            "File cleaned and saved: /content/drive/MyDrive/training data/audio_026.docx\n",
            "Cleaning file: /content/drive/MyDrive/training data/audio_022.docx\n",
            "File cleaned and saved: /content/drive/MyDrive/training data/audio_022.docx\n",
            "Cleaning file: /content/drive/MyDrive/training data/audio_024.docx\n",
            "File cleaned and saved: /content/drive/MyDrive/training data/audio_024.docx\n",
            "Cleaning file: /content/drive/MyDrive/training data/audio_029.docx\n",
            "File cleaned and saved: /content/drive/MyDrive/training data/audio_029.docx\n",
            "Cleaning file: /content/drive/MyDrive/training data/audio_027.docx\n",
            "File cleaned and saved: /content/drive/MyDrive/training data/audio_027.docx\n",
            "Cleaning file: /content/drive/MyDrive/training data/audio_032.docx\n",
            "File cleaned and saved: /content/drive/MyDrive/training data/audio_032.docx\n",
            "Cleaning file: /content/drive/MyDrive/training data/audio_023.docx\n",
            "File cleaned and saved: /content/drive/MyDrive/training data/audio_023.docx\n",
            "Cleaning file: /content/drive/MyDrive/training data/audio_021.docx\n",
            "File cleaned and saved: /content/drive/MyDrive/training data/audio_021.docx\n",
            "Cleaning file: /content/drive/MyDrive/training data/audio_046.docx\n",
            "File cleaned and saved: /content/drive/MyDrive/training data/audio_046.docx\n",
            "Cleaning file: /content/drive/MyDrive/training data/audio_040.docx\n",
            "File cleaned and saved: /content/drive/MyDrive/training data/audio_040.docx\n",
            "Cleaning file: /content/drive/MyDrive/training data/audio_037.docx\n",
            "File cleaned and saved: /content/drive/MyDrive/training data/audio_037.docx\n",
            "Cleaning file: /content/drive/MyDrive/training data/audio_039.docx\n",
            "File cleaned and saved: /content/drive/MyDrive/training data/audio_039.docx\n",
            "Cleaning file: /content/drive/MyDrive/training data/audio_038.docx\n",
            "File cleaned and saved: /content/drive/MyDrive/training data/audio_038.docx\n",
            "Cleaning file: /content/drive/MyDrive/training data/audio_047.docx\n",
            "File cleaned and saved: /content/drive/MyDrive/training data/audio_047.docx\n",
            "Cleaning file: /content/drive/MyDrive/training data/audio_035.docx\n",
            "File cleaned and saved: /content/drive/MyDrive/training data/audio_035.docx\n",
            "Cleaning file: /content/drive/MyDrive/training data/audio_036.docx\n",
            "File cleaned and saved: /content/drive/MyDrive/training data/audio_036.docx\n",
            "Cleaning file: /content/drive/MyDrive/training data/audio_043.docx\n",
            "File cleaned and saved: /content/drive/MyDrive/training data/audio_043.docx\n",
            "Cleaning file: /content/drive/MyDrive/training data/audio_042.docx\n",
            "File cleaned and saved: /content/drive/MyDrive/training data/audio_042.docx\n",
            "Cleaning file: /content/drive/MyDrive/training data/audio_041.docx\n",
            "File cleaned and saved: /content/drive/MyDrive/training data/audio_041.docx\n",
            "Cleaning file: /content/drive/MyDrive/training data/audio_044.docx\n",
            "File cleaned and saved: /content/drive/MyDrive/training data/audio_044.docx\n",
            "Cleaning file: /content/drive/MyDrive/training data/audio_045.docx\n",
            "File cleaned and saved: /content/drive/MyDrive/training data/audio_045.docx\n",
            "Cleaning file: /content/drive/MyDrive/training data/audio_048.docx\n",
            "File cleaned and saved: /content/drive/MyDrive/training data/audio_048.docx\n",
            "Cleaning file: /content/drive/MyDrive/training data/audio_087.docx\n",
            "File cleaned and saved: /content/drive/MyDrive/training data/audio_087.docx\n",
            "Cleaning file: /content/drive/MyDrive/training data/audio_093.docx\n",
            "File cleaned and saved: /content/drive/MyDrive/training data/audio_093.docx\n",
            "Cleaning file: /content/drive/MyDrive/training data/audio_084.docx\n",
            "File cleaned and saved: /content/drive/MyDrive/training data/audio_084.docx\n",
            "Cleaning file: /content/drive/MyDrive/training data/audio_098.docx\n",
            "File cleaned and saved: /content/drive/MyDrive/training data/audio_098.docx\n",
            "Cleaning file: /content/drive/MyDrive/training data/audio_088.docx\n",
            "File cleaned and saved: /content/drive/MyDrive/training data/audio_088.docx\n",
            "Cleaning file: /content/drive/MyDrive/training data/audio_086.docx\n",
            "File cleaned and saved: /content/drive/MyDrive/training data/audio_086.docx\n",
            "Cleaning file: /content/drive/MyDrive/training data/audio_095.docx\n",
            "File cleaned and saved: /content/drive/MyDrive/training data/audio_095.docx\n",
            "Cleaning file: /content/drive/MyDrive/training data/audio_090.docx\n",
            "File cleaned and saved: /content/drive/MyDrive/training data/audio_090.docx\n",
            "Cleaning file: /content/drive/MyDrive/training data/audio_097.docx\n",
            "File cleaned and saved: /content/drive/MyDrive/training data/audio_097.docx\n",
            "Cleaning file: /content/drive/MyDrive/training data/audio_081.docx\n",
            "File cleaned and saved: /content/drive/MyDrive/training data/audio_081.docx\n",
            "Cleaning file: /content/drive/MyDrive/training data/audio_089.docx\n",
            "File cleaned and saved: /content/drive/MyDrive/training data/audio_089.docx\n",
            "Cleaning file: /content/drive/MyDrive/training data/audio_091.docx\n",
            "File cleaned and saved: /content/drive/MyDrive/training data/audio_091.docx\n",
            "Cleaning file: /content/drive/MyDrive/training data/audio_082.docx\n",
            "File cleaned and saved: /content/drive/MyDrive/training data/audio_082.docx\n",
            "Cleaning file: /content/drive/MyDrive/training data/audio_092.docx\n",
            "File cleaned and saved: /content/drive/MyDrive/training data/audio_092.docx\n",
            "Cleaning file: /content/drive/MyDrive/training data/audio_094.docx\n",
            "File cleaned and saved: /content/drive/MyDrive/training data/audio_094.docx\n",
            "Cleaning file: /content/drive/MyDrive/training data/audio_085.docx\n",
            "File cleaned and saved: /content/drive/MyDrive/training data/audio_085.docx\n",
            "Cleaning file: /content/drive/MyDrive/training data/audio_083.docx\n",
            "File cleaned and saved: /content/drive/MyDrive/training data/audio_083.docx\n",
            "Cleaning file: /content/drive/MyDrive/training data/audio_096.docx\n",
            "File cleaned and saved: /content/drive/MyDrive/training data/audio_096.docx\n"
          ]
        }
      ]
    },
    {
      "cell_type": "code",
      "source": [
        "# Function to extract text from a .docx file\n",
        "def extract_transcript(docx_path):\n",
        "    try:\n",
        "        doc = Document(docx_path)\n",
        "        transcript = \"\\n\".join(para.text for para in doc.paragraphs).strip()\n",
        "        return transcript\n",
        "    except Exception as e:\n",
        "        print(f\"Error extracting from {docx_path}: {e}\")\n",
        "        return None\n",
        "\n",
        "# Function to create the CSV dataset\n",
        "def create_csv(folder_path, output_csv):\n",
        "    # Create a CSV file and write header\n",
        "    with open(output_csv, 'w', newline='', encoding='utf-8') as csvfile:\n",
        "        writer = csv.writer(csvfile)\n",
        "        writer.writerow([\"path\", \"transcript\"])  # CSV Header\n",
        "\n",
        "        # List all files in the folder\n",
        "        for filename in sorted(os.listdir(folder_path)):\n",
        "            if filename.endswith(\".docx\"):  # Transcript file\n",
        "                docx_path = os.path.join(folder_path, filename)\n",
        "                base_name = os.path.splitext(filename)[0]\n",
        "\n",
        "                # Match with .wav audio file\n",
        "                audio_file = base_name + \".wav\"\n",
        "                audio_path = os.path.join(folder_path, audio_file)\n",
        "\n",
        "                if os.path.exists(audio_path):\n",
        "                    transcript = extract_transcript(docx_path)\n",
        "                    if transcript:\n",
        "                        writer.writerow([audio_path, transcript])\n",
        "                    else:\n",
        "                        print(f\"Skipping {docx_path} due to empty or error in transcript.\")\n",
        "                else:\n",
        "                    print(f\"No matching audio file for {filename}\")\n",
        "\n",
        "    print(f\"CSV file saved at {output_csv}\")\n",
        "\n",
        "# Set your folder path and output CSV path\n",
        "folder_path = \"/content/drive/MyDrive/trainingdata\"\n",
        "output_csv = os.path.join(folder_path, \"dataset.csv\")\n",
        "\n",
        "# Create the dataset\n",
        "create_csv(folder_path, output_csv)\n"
      ],
      "metadata": {
        "colab": {
          "base_uri": "https://localhost:8080/"
        },
        "id": "OCx1X9kKTa02",
        "outputId": "a2abecf9-8545-4bc8-cf7a-e3e0e9c6c602"
      },
      "execution_count": 19,
      "outputs": [
        {
          "output_type": "stream",
          "name": "stdout",
          "text": [
            "No matching audio file for audio_008.docx\n",
            "No matching audio file for audio_009.docx\n",
            "No matching audio file for audio_010.docx\n",
            "No matching audio file for audio_014.docx\n",
            "No matching audio file for audio_015.docx\n",
            "CSV file saved at /content/drive/MyDrive/trainingdata/dataset.csv\n"
          ]
        }
      ]
    },
    {
      "cell_type": "markdown",
      "source": [
        "#Tuning"
      ],
      "metadata": {
        "id": "7NtlP-IDI_YN"
      }
    },
    {
      "cell_type": "code",
      "source": [
        "import pandas as pd\n",
        "df=pd.read_csv('/content/drive/MyDrive/trainingdata/dataset.csv')\n",
        "df.head(15)"
      ],
      "metadata": {
        "colab": {
          "base_uri": "https://localhost:8080/",
          "height": 520
        },
        "id": "9l-iRMDVkJsT",
        "outputId": "891fd661-31bb-48d3-d6ed-2d3c61b634bc"
      },
      "execution_count": 2,
      "outputs": [
        {
          "output_type": "execute_result",
          "data": {
            "text/plain": [
              "                                                 path  \\\n",
              "0   /content/drive/MyDrive/trainingdata/audio_001.wav   \n",
              "1   /content/drive/MyDrive/trainingdata/audio_002.wav   \n",
              "2   /content/drive/MyDrive/trainingdata/audio_003.wav   \n",
              "3   /content/drive/MyDrive/trainingdata/audio_004.wav   \n",
              "4   /content/drive/MyDrive/trainingdata/audio_005.wav   \n",
              "5   /content/drive/MyDrive/trainingdata/audio_006.wav   \n",
              "6   /content/drive/MyDrive/trainingdata/audio_007.wav   \n",
              "7   /content/drive/MyDrive/trainingdata/audio_011.wav   \n",
              "8   /content/drive/MyDrive/trainingdata/audio_012.wav   \n",
              "9   /content/drive/MyDrive/trainingdata/audio_013.wav   \n",
              "10  /content/drive/MyDrive/trainingdata/audio_020.wav   \n",
              "11  /content/drive/MyDrive/trainingdata/audio_021.wav   \n",
              "12  /content/drive/MyDrive/trainingdata/audio_022.wav   \n",
              "13  /content/drive/MyDrive/trainingdata/audio_023.wav   \n",
              "14  /content/drive/MyDrive/trainingdata/audio_024.wav   \n",
              "\n",
              "                                           transcript  \n",
              "0   እሺ ደህና ዋልሽ\\nእግዚኣብሄር ይመስገን\\nሲስተር ማና ረዳ እባላለሁ እዚ...  \n",
              "1   እሺ ደህና ዋልሽ\\nስመ ሲስተር ማና እባላለሁ እዚህ ምርመራ ክፍል ነዉ የ...  \n",
              "2   ደህና ዋልሽ\\nእግዚኣብሔር ይመስገን\\nስሜ ሲስተር ማና እባላለሁ\\nእዚህ ...  \n",
              "3   እሺ\\nስሜ ሲስተር ማና እባላለሁ እዚህ ምርመራ ክፍል ነዉ የምሰራዉ\\nስም...  \n",
              "4   እሺ ደህና ዋልክ\\nእግዚአብሔር የተመሰገነ ይሁን\\nሲስተር ማና እባላለሁ ...  \n",
              "5   እሺ ሠላም እንዴት አደርሽ\\nእግዚአብሔር ይመስገን\\nእሺ ስምሽን ማን ልበ...  \n",
              "6   ሠላም እንዴት ዋልሽ\\nእግዚአብሔር ይመስገን\\nእሺ ስምሽን ማን ልበል\\nአ...  \n",
              "7   እሺ\\nሽም\\nስሜ በሪሃ እባላለሁ\\nእድሜ\\nእድሜ ሃያ ስምንት\\nእሺ ፆታ\\...  \n",
              "8   እሺ ሰላም እንዴት ዋልሽ\\nእግዚአብሔር ይመስገን\\nስምሽን ማን ልበል\\nእ...  \n",
              "9   እሺ ሰላም እንዴት ዋልክ\\nእኔ ተወልደ ነው የምባለው ከዚህ የጤና ባለሙያ...  \n",
              "10  ደህና አደርሽ\\nእግዚኘብሄር ይመስገን\\nስምሽ ማን ነው\\nአስቴር ፈጠነ\\n...  \n",
              "11  አደርሸ\\nእግዜኣብሔር ይመስገን\\nደህና አደርሽ\\nደህና\\nስምሽ ማነው\\nአ...  \n",
              "12  እግዚአብሔር ይመስገን\\nስም ማን ልበል\\nአስቴር አበበ\\nእድሜ\\nአስራ ዘ...  \n",
              "13  ደህና አደርክ\\nእግዚአብሔር ይመስገን\\nስምህ ማነው\\nአለሙ ተሰማ\\nእረ ...  \n",
              "14  እንዴት አደርክ\\nደህና እግዚአብሔር ይመስገን\\nደህና አደርክ\\nእግዚአብሔ...  "
            ],
            "text/html": [
              "\n",
              "  <div id=\"df-63beb115-3cef-4201-9e6c-6123c27b65b8\" class=\"colab-df-container\">\n",
              "    <div>\n",
              "<style scoped>\n",
              "    .dataframe tbody tr th:only-of-type {\n",
              "        vertical-align: middle;\n",
              "    }\n",
              "\n",
              "    .dataframe tbody tr th {\n",
              "        vertical-align: top;\n",
              "    }\n",
              "\n",
              "    .dataframe thead th {\n",
              "        text-align: right;\n",
              "    }\n",
              "</style>\n",
              "<table border=\"1\" class=\"dataframe\">\n",
              "  <thead>\n",
              "    <tr style=\"text-align: right;\">\n",
              "      <th></th>\n",
              "      <th>path</th>\n",
              "      <th>transcript</th>\n",
              "    </tr>\n",
              "  </thead>\n",
              "  <tbody>\n",
              "    <tr>\n",
              "      <th>0</th>\n",
              "      <td>/content/drive/MyDrive/trainingdata/audio_001.wav</td>\n",
              "      <td>እሺ ደህና ዋልሽ\\nእግዚኣብሄር ይመስገን\\nሲስተር ማና ረዳ እባላለሁ እዚ...</td>\n",
              "    </tr>\n",
              "    <tr>\n",
              "      <th>1</th>\n",
              "      <td>/content/drive/MyDrive/trainingdata/audio_002.wav</td>\n",
              "      <td>እሺ ደህና ዋልሽ\\nስመ ሲስተር ማና እባላለሁ እዚህ ምርመራ ክፍል ነዉ የ...</td>\n",
              "    </tr>\n",
              "    <tr>\n",
              "      <th>2</th>\n",
              "      <td>/content/drive/MyDrive/trainingdata/audio_003.wav</td>\n",
              "      <td>ደህና ዋልሽ\\nእግዚኣብሔር ይመስገን\\nስሜ ሲስተር ማና እባላለሁ\\nእዚህ ...</td>\n",
              "    </tr>\n",
              "    <tr>\n",
              "      <th>3</th>\n",
              "      <td>/content/drive/MyDrive/trainingdata/audio_004.wav</td>\n",
              "      <td>እሺ\\nስሜ ሲስተር ማና እባላለሁ እዚህ ምርመራ ክፍል ነዉ የምሰራዉ\\nስም...</td>\n",
              "    </tr>\n",
              "    <tr>\n",
              "      <th>4</th>\n",
              "      <td>/content/drive/MyDrive/trainingdata/audio_005.wav</td>\n",
              "      <td>እሺ ደህና ዋልክ\\nእግዚአብሔር የተመሰገነ ይሁን\\nሲስተር ማና እባላለሁ ...</td>\n",
              "    </tr>\n",
              "    <tr>\n",
              "      <th>5</th>\n",
              "      <td>/content/drive/MyDrive/trainingdata/audio_006.wav</td>\n",
              "      <td>እሺ ሠላም እንዴት አደርሽ\\nእግዚአብሔር ይመስገን\\nእሺ ስምሽን ማን ልበ...</td>\n",
              "    </tr>\n",
              "    <tr>\n",
              "      <th>6</th>\n",
              "      <td>/content/drive/MyDrive/trainingdata/audio_007.wav</td>\n",
              "      <td>ሠላም እንዴት ዋልሽ\\nእግዚአብሔር ይመስገን\\nእሺ ስምሽን ማን ልበል\\nአ...</td>\n",
              "    </tr>\n",
              "    <tr>\n",
              "      <th>7</th>\n",
              "      <td>/content/drive/MyDrive/trainingdata/audio_011.wav</td>\n",
              "      <td>እሺ\\nሽም\\nስሜ በሪሃ እባላለሁ\\nእድሜ\\nእድሜ ሃያ ስምንት\\nእሺ ፆታ\\...</td>\n",
              "    </tr>\n",
              "    <tr>\n",
              "      <th>8</th>\n",
              "      <td>/content/drive/MyDrive/trainingdata/audio_012.wav</td>\n",
              "      <td>እሺ ሰላም እንዴት ዋልሽ\\nእግዚአብሔር ይመስገን\\nስምሽን ማን ልበል\\nእ...</td>\n",
              "    </tr>\n",
              "    <tr>\n",
              "      <th>9</th>\n",
              "      <td>/content/drive/MyDrive/trainingdata/audio_013.wav</td>\n",
              "      <td>እሺ ሰላም እንዴት ዋልክ\\nእኔ ተወልደ ነው የምባለው ከዚህ የጤና ባለሙያ...</td>\n",
              "    </tr>\n",
              "    <tr>\n",
              "      <th>10</th>\n",
              "      <td>/content/drive/MyDrive/trainingdata/audio_020.wav</td>\n",
              "      <td>ደህና አደርሽ\\nእግዚኘብሄር ይመስገን\\nስምሽ ማን ነው\\nአስቴር ፈጠነ\\n...</td>\n",
              "    </tr>\n",
              "    <tr>\n",
              "      <th>11</th>\n",
              "      <td>/content/drive/MyDrive/trainingdata/audio_021.wav</td>\n",
              "      <td>አደርሸ\\nእግዜኣብሔር ይመስገን\\nደህና አደርሽ\\nደህና\\nስምሽ ማነው\\nአ...</td>\n",
              "    </tr>\n",
              "    <tr>\n",
              "      <th>12</th>\n",
              "      <td>/content/drive/MyDrive/trainingdata/audio_022.wav</td>\n",
              "      <td>እግዚአብሔር ይመስገን\\nስም ማን ልበል\\nአስቴር አበበ\\nእድሜ\\nአስራ ዘ...</td>\n",
              "    </tr>\n",
              "    <tr>\n",
              "      <th>13</th>\n",
              "      <td>/content/drive/MyDrive/trainingdata/audio_023.wav</td>\n",
              "      <td>ደህና አደርክ\\nእግዚአብሔር ይመስገን\\nስምህ ማነው\\nአለሙ ተሰማ\\nእረ ...</td>\n",
              "    </tr>\n",
              "    <tr>\n",
              "      <th>14</th>\n",
              "      <td>/content/drive/MyDrive/trainingdata/audio_024.wav</td>\n",
              "      <td>እንዴት አደርክ\\nደህና እግዚአብሔር ይመስገን\\nደህና አደርክ\\nእግዚአብሔ...</td>\n",
              "    </tr>\n",
              "  </tbody>\n",
              "</table>\n",
              "</div>\n",
              "    <div class=\"colab-df-buttons\">\n",
              "\n",
              "  <div class=\"colab-df-container\">\n",
              "    <button class=\"colab-df-convert\" onclick=\"convertToInteractive('df-63beb115-3cef-4201-9e6c-6123c27b65b8')\"\n",
              "            title=\"Convert this dataframe to an interactive table.\"\n",
              "            style=\"display:none;\">\n",
              "\n",
              "  <svg xmlns=\"http://www.w3.org/2000/svg\" height=\"24px\" viewBox=\"0 -960 960 960\">\n",
              "    <path d=\"M120-120v-720h720v720H120Zm60-500h600v-160H180v160Zm220 220h160v-160H400v160Zm0 220h160v-160H400v160ZM180-400h160v-160H180v160Zm440 0h160v-160H620v160ZM180-180h160v-160H180v160Zm440 0h160v-160H620v160Z\"/>\n",
              "  </svg>\n",
              "    </button>\n",
              "\n",
              "  <style>\n",
              "    .colab-df-container {\n",
              "      display:flex;\n",
              "      gap: 12px;\n",
              "    }\n",
              "\n",
              "    .colab-df-convert {\n",
              "      background-color: #E8F0FE;\n",
              "      border: none;\n",
              "      border-radius: 50%;\n",
              "      cursor: pointer;\n",
              "      display: none;\n",
              "      fill: #1967D2;\n",
              "      height: 32px;\n",
              "      padding: 0 0 0 0;\n",
              "      width: 32px;\n",
              "    }\n",
              "\n",
              "    .colab-df-convert:hover {\n",
              "      background-color: #E2EBFA;\n",
              "      box-shadow: 0px 1px 2px rgba(60, 64, 67, 0.3), 0px 1px 3px 1px rgba(60, 64, 67, 0.15);\n",
              "      fill: #174EA6;\n",
              "    }\n",
              "\n",
              "    .colab-df-buttons div {\n",
              "      margin-bottom: 4px;\n",
              "    }\n",
              "\n",
              "    [theme=dark] .colab-df-convert {\n",
              "      background-color: #3B4455;\n",
              "      fill: #D2E3FC;\n",
              "    }\n",
              "\n",
              "    [theme=dark] .colab-df-convert:hover {\n",
              "      background-color: #434B5C;\n",
              "      box-shadow: 0px 1px 3px 1px rgba(0, 0, 0, 0.15);\n",
              "      filter: drop-shadow(0px 1px 2px rgba(0, 0, 0, 0.3));\n",
              "      fill: #FFFFFF;\n",
              "    }\n",
              "  </style>\n",
              "\n",
              "    <script>\n",
              "      const buttonEl =\n",
              "        document.querySelector('#df-63beb115-3cef-4201-9e6c-6123c27b65b8 button.colab-df-convert');\n",
              "      buttonEl.style.display =\n",
              "        google.colab.kernel.accessAllowed ? 'block' : 'none';\n",
              "\n",
              "      async function convertToInteractive(key) {\n",
              "        const element = document.querySelector('#df-63beb115-3cef-4201-9e6c-6123c27b65b8');\n",
              "        const dataTable =\n",
              "          await google.colab.kernel.invokeFunction('convertToInteractive',\n",
              "                                                    [key], {});\n",
              "        if (!dataTable) return;\n",
              "\n",
              "        const docLinkHtml = 'Like what you see? Visit the ' +\n",
              "          '<a target=\"_blank\" href=https://colab.research.google.com/notebooks/data_table.ipynb>data table notebook</a>'\n",
              "          + ' to learn more about interactive tables.';\n",
              "        element.innerHTML = '';\n",
              "        dataTable['output_type'] = 'display_data';\n",
              "        await google.colab.output.renderOutput(dataTable, element);\n",
              "        const docLink = document.createElement('div');\n",
              "        docLink.innerHTML = docLinkHtml;\n",
              "        element.appendChild(docLink);\n",
              "      }\n",
              "    </script>\n",
              "  </div>\n",
              "\n",
              "\n",
              "<div id=\"df-e82d2ba3-194d-4533-a9c0-30c29b349727\">\n",
              "  <button class=\"colab-df-quickchart\" onclick=\"quickchart('df-e82d2ba3-194d-4533-a9c0-30c29b349727')\"\n",
              "            title=\"Suggest charts\"\n",
              "            style=\"display:none;\">\n",
              "\n",
              "<svg xmlns=\"http://www.w3.org/2000/svg\" height=\"24px\"viewBox=\"0 0 24 24\"\n",
              "     width=\"24px\">\n",
              "    <g>\n",
              "        <path d=\"M19 3H5c-1.1 0-2 .9-2 2v14c0 1.1.9 2 2 2h14c1.1 0 2-.9 2-2V5c0-1.1-.9-2-2-2zM9 17H7v-7h2v7zm4 0h-2V7h2v10zm4 0h-2v-4h2v4z\"/>\n",
              "    </g>\n",
              "</svg>\n",
              "  </button>\n",
              "\n",
              "<style>\n",
              "  .colab-df-quickchart {\n",
              "      --bg-color: #E8F0FE;\n",
              "      --fill-color: #1967D2;\n",
              "      --hover-bg-color: #E2EBFA;\n",
              "      --hover-fill-color: #174EA6;\n",
              "      --disabled-fill-color: #AAA;\n",
              "      --disabled-bg-color: #DDD;\n",
              "  }\n",
              "\n",
              "  [theme=dark] .colab-df-quickchart {\n",
              "      --bg-color: #3B4455;\n",
              "      --fill-color: #D2E3FC;\n",
              "      --hover-bg-color: #434B5C;\n",
              "      --hover-fill-color: #FFFFFF;\n",
              "      --disabled-bg-color: #3B4455;\n",
              "      --disabled-fill-color: #666;\n",
              "  }\n",
              "\n",
              "  .colab-df-quickchart {\n",
              "    background-color: var(--bg-color);\n",
              "    border: none;\n",
              "    border-radius: 50%;\n",
              "    cursor: pointer;\n",
              "    display: none;\n",
              "    fill: var(--fill-color);\n",
              "    height: 32px;\n",
              "    padding: 0;\n",
              "    width: 32px;\n",
              "  }\n",
              "\n",
              "  .colab-df-quickchart:hover {\n",
              "    background-color: var(--hover-bg-color);\n",
              "    box-shadow: 0 1px 2px rgba(60, 64, 67, 0.3), 0 1px 3px 1px rgba(60, 64, 67, 0.15);\n",
              "    fill: var(--button-hover-fill-color);\n",
              "  }\n",
              "\n",
              "  .colab-df-quickchart-complete:disabled,\n",
              "  .colab-df-quickchart-complete:disabled:hover {\n",
              "    background-color: var(--disabled-bg-color);\n",
              "    fill: var(--disabled-fill-color);\n",
              "    box-shadow: none;\n",
              "  }\n",
              "\n",
              "  .colab-df-spinner {\n",
              "    border: 2px solid var(--fill-color);\n",
              "    border-color: transparent;\n",
              "    border-bottom-color: var(--fill-color);\n",
              "    animation:\n",
              "      spin 1s steps(1) infinite;\n",
              "  }\n",
              "\n",
              "  @keyframes spin {\n",
              "    0% {\n",
              "      border-color: transparent;\n",
              "      border-bottom-color: var(--fill-color);\n",
              "      border-left-color: var(--fill-color);\n",
              "    }\n",
              "    20% {\n",
              "      border-color: transparent;\n",
              "      border-left-color: var(--fill-color);\n",
              "      border-top-color: var(--fill-color);\n",
              "    }\n",
              "    30% {\n",
              "      border-color: transparent;\n",
              "      border-left-color: var(--fill-color);\n",
              "      border-top-color: var(--fill-color);\n",
              "      border-right-color: var(--fill-color);\n",
              "    }\n",
              "    40% {\n",
              "      border-color: transparent;\n",
              "      border-right-color: var(--fill-color);\n",
              "      border-top-color: var(--fill-color);\n",
              "    }\n",
              "    60% {\n",
              "      border-color: transparent;\n",
              "      border-right-color: var(--fill-color);\n",
              "    }\n",
              "    80% {\n",
              "      border-color: transparent;\n",
              "      border-right-color: var(--fill-color);\n",
              "      border-bottom-color: var(--fill-color);\n",
              "    }\n",
              "    90% {\n",
              "      border-color: transparent;\n",
              "      border-bottom-color: var(--fill-color);\n",
              "    }\n",
              "  }\n",
              "</style>\n",
              "\n",
              "  <script>\n",
              "    async function quickchart(key) {\n",
              "      const quickchartButtonEl =\n",
              "        document.querySelector('#' + key + ' button');\n",
              "      quickchartButtonEl.disabled = true;  // To prevent multiple clicks.\n",
              "      quickchartButtonEl.classList.add('colab-df-spinner');\n",
              "      try {\n",
              "        const charts = await google.colab.kernel.invokeFunction(\n",
              "            'suggestCharts', [key], {});\n",
              "      } catch (error) {\n",
              "        console.error('Error during call to suggestCharts:', error);\n",
              "      }\n",
              "      quickchartButtonEl.classList.remove('colab-df-spinner');\n",
              "      quickchartButtonEl.classList.add('colab-df-quickchart-complete');\n",
              "    }\n",
              "    (() => {\n",
              "      let quickchartButtonEl =\n",
              "        document.querySelector('#df-e82d2ba3-194d-4533-a9c0-30c29b349727 button');\n",
              "      quickchartButtonEl.style.display =\n",
              "        google.colab.kernel.accessAllowed ? 'block' : 'none';\n",
              "    })();\n",
              "  </script>\n",
              "</div>\n",
              "\n",
              "    </div>\n",
              "  </div>\n"
            ],
            "application/vnd.google.colaboratory.intrinsic+json": {
              "type": "dataframe",
              "variable_name": "df",
              "summary": "{\n  \"name\": \"df\",\n  \"rows\": 89,\n  \"fields\": [\n    {\n      \"column\": \"path\",\n      \"properties\": {\n        \"dtype\": \"string\",\n        \"num_unique_values\": 89,\n        \"samples\": [\n          \"/content/drive/MyDrive/trainingdata/audio_054.wav\",\n          \"/content/drive/MyDrive/trainingdata/audio_063.wav\",\n          \"/content/drive/MyDrive/trainingdata/audio_040.wav\"\n        ],\n        \"semantic_type\": \"\",\n        \"description\": \"\"\n      }\n    },\n    {\n      \"column\": \"transcript\",\n      \"properties\": {\n        \"dtype\": \"string\",\n        \"num_unique_values\": 89,\n        \"samples\": [\n          \"\\u1230\\u120b\\u121d \\u1290\\u12cd \\u130b\\u123c\\n\\u12a5\\u130d\\u12da\\u12a0\\u1265\\u1214\\u122d \\u12ed\\u1218\\u1235\\u1308\\u1295\\n\\u1230\\u120b\\u121d \\u1290\\u12cd \\u12a5\\u1295\\u12f4\\u1275 \\u1290\\u1205\\n\\u1235\\u121d\\u1205 \\u121b\\u1295 \\u1290\\u12cd\\n\\u12a0\\u1263\\u1270 \\u132b\\u1294 \\u1270\\u1308\\u129d\\n\\u12a0\\u1263\\u1270 \\u132b\\u1294 \\u1270\\u1308\\u129d \\u1290\\u12cd\\n\\u12a0\\u12ce\\n\\u12a5\\u12f5\\u121c\\u1205 \\u1235\\u1295\\u1275 \\u1290\\u12cd\\n\\u1200\\u121d\\u1233 \\u1201\\u1208\\u1275\\n\\u1200\\u121d\\u1233 \\u1201\\u1208\\u1275\\n\\u1346\\u1273\\u1205 \\u121d\\u1295\\u12f5\\u1295 \\u1290\\u12cd\\n\\u12c8\\u1295\\u12f5\\n\\u12c8\\u1295\\u12f5 \\u1290\\u12cd\\n\\u12a5\\u123a \\u12a8\\u12e8\\u1275 \\u1240\\u1260\\u120c \\u1290\\u12cd \\u12e8\\u1218\\u1323\\u12b8\\u12cd\\n\\u1240\\u1260\\u120c \\u1240\\u1320\\u1293\\n\\u1240\\u1320\\u1293\\n\\u12a0\\u12ce\\n\\u12c8\\u12f0\\u12da\\u1205 \\u1270\\u124b\\u121d \\u12e8\\u1218\\u1323\\u1205\\u1260\\u1275 \\u121d\\u12ad\\u1295\\u12eb\\u1275 \\u121d\\u1295\\u12f5\\u1295 \\u1290\\u12cd\\n\\u12eb\\u12cd \\u12e8\\u1270\\u12c8\\u1230\\u1290 \\u1205\\u1218\\u121d \\u1235\\u1208\\u1270\\u12a8\\u1230\\u1270\\u1265\\u129d\\n\\u12a0\\u1295\\u12f0\\u129b \\u12e8\\u12a0\\u1235\\u121d \\u1260\\u123d\\u1273 \\u12a8\\u134d\\u1270\\u129b \\u12a8\\u1275\\u1275\\u120d \\u12a0\\u1208\\u1265\\u129d\\n\\u1208\\u12db \\u1290\\u12cd \\u1201\\u1208\\u1270\\u129b \\u12f0\\u130d\\u121e \\u12eb\\u12cd \\u130d\\u134a\\u1275 \\u1260\\u1323\\u121d \\u12ed\\u12a8\\u1230\\u1275\\u1265\\u129b\\u120d \\u130d\\u134a\\u1275\\n\\u12a0\\u1295\\u1308\\u1274\\u1295 \\u12a0\\u120b\\u12de\\u1228\\u129d \\u1265\\u120f\\u120d \\u12a5\\u12e8\\u12c8\\u130b\\u129d \\u1290\\u12cd\\n\\u12a5\\u123a\\n\\u120c\\u120b \\u1266\\u1273 \\u120b\\u12ed\\u121d \\u1290\\u1260\\u122d\\u12a9\\u129d \\u12a0\\u1295\\u1308\\u1274\\u1295 \\u12a8\\u1270\\u129b\\u1201\\u129d \\u12a0\\u1295\\u1246 \\u12f0\\u121d\\u120e \\u12ed\\u12de \\u12a0\\u120b\\u12de\\u1228\\u129d\\n\\u12c8\\u12f0\\u1240\\u129d \\u12c8\\u12f0\\u130d\\u122b \\u12a0\\u120b\\u12de\\u1228\\u129d \\u1265\\u120e \\u1290\\u12cd \\u12eb\\u1208\\n\\u1201\\u1208\\u1270\\u129b \\u12f0\\u130d\\u121e \\u1300\\u122d\\u1263\\u12ec \\u120b\\u12ed \\u12a5\\u1295\\u12f0 \\u12a9\\u120b\\u120a\\u1275 \\u1206\\u1296 \\u1273\\u134b\\u12ec \\u120b\\u12ed \\u12a0\\u12ed\\u1230\\u12f0\\u129d\\u121d \\u12ed\\u1260\\u120b\\u129b\\u120d \\u12ed\\u1246\\u1228\\u1325\\u1218\\u129b\\u120d\\n\\u12a5\\u123a\\n\\u123d\\u1295\\u1274\\u1295 \\u1235\\u1238\\u1293\\u12cd \\u1260\\u1323\\u121d \\u12eb\\u1243\\u1325\\u1208\\u129b\\u120d\\n\\u12a5\\u123a\\n\\u12ed\\u12cd \\u1275\\u1295\\u123d \\u12cd\\u1200 \\u1260\\u12ad\\u134b\\u1275 \\u1235\\u1320\\u1323 \\u12e8\\u1270\\u123b\\u1208\\u129d \\u12ed\\u1218\\u1235\\u1208\\u129b\\u120d\\n\\u130d\\u1295 \\u12a5\\u130d\\u122c \\u1240\\u129d \\u12a5\\u130d\\u122c \\u12a5\\u12e8\\u1230\\u1290\\u1348 \\u1290\\u12cd\\u12eb\\u1208\\u12c9 \\u1218\\u1204\\u12f5 \\u12a5\\u12e8\\u127b\\u1208\\u120d\\u129d \\u12a0\\u12ed\\u12f0\\u1208\\u121d\\n\\u12a5\\u1295\\u12f0 \\u134d\\u120b\\u130e\\u1274 \\u12a5\\u12e8\\u1206\\u1295\\u12a9\\u129d \\u12a0\\u12ed\\u12f0\\u1208\\u121d\\n\\u12a5\\u1293 \\u12a5\\u1290\\u12da\\u1205 \\u12a5\\u1290\\u12da\\u1205 \\u127d\\u130d\\u122e\\u127d \\u12a0\\u1209\\u1265\\u129d\\n\\u1328\\u1313\\u122b\\u121d \\u12a8\\u134d\\u1270\\u129b \\u1328\\u1313\\u122b \\u12a0\\u1208\\u1265\\u129d \\u12a8\\u12a0\\u1201\\u1295 \\u1240\\u12f0\\u121d\\u121d\\n\\u12a5\\u12e8\\u1270\\u12a8\\u1273\\u120d\\u12a9 \\u1218\\u12f5\\u1200\\u1292\\u1275 \\u12a5\\u12e8\\u12c8\\u1230\\u12f5\\u12a9 \\u1290\\u12cd \\u12eb\\u1208\\u12cd\\n\\u12eb\\u12cd \\u12a5\\u1290\\u12da\\u1205 \\u127d\\u130d\\u122e\\u127d \\u1235\\u120b\\u1209\\u1265\\u129d \\u1290\\u12cd \\u12c8\\u12f0\\u12da\\u1205 \\u1270\\u124b\\u121d \\u120d\\u1218\\u1323 \\u12e8\\u127b\\u120d\\u12a9\\u1275\\n\\u12a5\\u123a \\u1235\\u1295\\u1275 \\u1240\\u1295\\n\\u1205\\u1218\\u1219 \\u12a8\\u1300\\u1218\\u1228 \\u1235\\u1295\\u1275 \\u1240\\u1295 \\u1206\\u1290\\n\\u1246\\u12ed\\u1277\\u120d \\u12e8\\u130d\\u134b\\u1271 \\u1290\\u12cd \\u1325\\u1242\\u1275 \\u12e8\\u1206\\u1290 \\u12a5\\u1302\\n\\u12e8\\u1328\\u1313\\u122b\\u12cd \\u12e8\\u12a9\\u120b\\u120a\\u1275 \\u1246\\u12ed\\u1277\\u120d\\n\\u1235\\u1295\\u1275 \\u12a0\\u1218\\u1275 \\u1262\\u12ed\\u1295\\u1235 \\u1235\\u1295\\u1275 \\u130a\\u12dc \\u12ed\\u1206\\u1290\\u12cb\\u120d\\n\\u12a7\\u1228 \\u12ad\\u1275\\u1275\\u120d \\u12a8\\u1206\\u1235\\u1352\\u1273\\u120d \\u120b\\u12ed \\u12ad\\u1275\\u1275\\u120d \\u12eb\\u1208\\u1265\\u129d \\u1260\\u1270\\u1208\\u12ed \\u1260\\u12a0\\u1235\\u1219 \\u12ad\\u1275\\u1275\\u120d \\u12a0\\u1208\\u1265\\u129d\\n\\u121d\\u1295 \\u12eb\\u1205\\u120d \\u130a\\u12dc \\u12ed\\u1206\\u1290\\u12cb\\u120d \\u12e8\\u1208\\u1295 \\u12a8\\u1300\\u1218\\u122d\\u12ad\\n\\u1262\\u12eb\\u1295\\u1235 \\u12a0\\u1295\\u12f5 \\u12a0\\u1230\\u122d \\u12a0\\u1218\\u1275 \\u12ed\\u1206\\u1290\\u12cb\\u120d\\u12e8\\u12da\\u1205 \\u12e8\\u12a0\\u1235\\u1219 \\u12e8\\u121d\\u1291 \\u12a0\\u1235\\u122d \\u12a0\\u1218\\u1275 \\u12ed\\u1206\\u1290\\u129b\\u120d\",\n          \"\\u1230\\u120b\\u121d \\u1290\\u12cd \\u12a0\\u1263\\u1275\\n\\u12a5\\u130d\\u12da\\u12a0\\u1265\\u1204\\u1264\\u122d \\u12ed\\u1218\\u1235\\u1308\\u1295\\n\\u1235\\u121d\\u1205 \\u121b\\u1295 \\u1290\\u12cd\\n\\u1218\\u12b3\\u1295\\u1295\\u1275 \\u12a0\\u1208\\u121d\\u1290\\u1205 \\u12aa\\u12f4\\n\\u12a5\\u123a\\n\\u12a5\\u12f5\\u121c \\u1235\\u1295\\u1275 \\u1290\\u12cd\\n\\u1230\\u120b\\u1233 \\u1201\\u1208\\u1275\\n\\u1230\\u120b\\u1233 \\u1201\\u1208\\u1275 \\u12a5\\u12a5\\u12a5\\n\\u1240\\u1260\\u120c\\n\\u1346\\u1273 \\u121d\\u1295\\u12f5\\u1295 \\u1290\\u12cd\\n\\u12c8\\u1295\\u12f5\\n\\u12c8\\u1295\\u12f5\\n\\u1240\\u1260\\u120c \\u12e8\\u1275 \\u1290\\u12cd\\n\\u12dc\\u122e \\u1230\\u1263\\u1275\\n\\u12dc\\u122e \\u1230\\u1263\\u1275\\n\\u1240\\u1320\\u1293 \\u1235\\u1295\\u1275\\n\\u1240\\u1320\\u1293 \\u1236\\u1235\\u1275\\n\\u12a5\\u123a \\u121d\\u1295\\u1205\\u1295 \\u12a0\\u121e \\u1290\\u12cd \\u12c8\\u12f0\\u12da\\u1205 \\u1270\\u124b\\u121d \\u12e8\\u1218\\u1323\\u1205\\u1260\\u1275\\n\\u1206\\u12f4\\u1295 \\u12eb\\u1218\\u1218\\u129d \\u12a5\\u1293 \\u1230\\u121e\\u1291\\u1295 \\u121d\\u12f5\\u122d \\u121d\\u12f5\\u122d \\u12eb\\u1233\\u12e8\\u129b\\u120d\\n\\u121d\\u12f5\\u122d \\u12eb\\u1233\\u12ed\\u1200\\u120d\\n\\u1241\\u122d\\u1320\\u1275 \\u12a0\\u1208\\u12cd\\n\\u12a0\\u1208\\u12cd \\u12a0\\u120d\\u134e \\u12a0\\u120d\\u134e \\u12a5\\u1295\\u12f0\\u12cd\\u121d \\u1260\\u12da\\u1205 \\u1236\\u1235\\u1275 \\u1240\\u1295 \\u121d\\u1295\\u12a0\\u121e\\u1295 \\u12a0\\u1201\\u1295 \\u1275\\u1295\\u123d \\u12eb\\u12cd \\u1275\\u1295\\u123d \\u1230\\u121e\\u1291\\u1295\\n\\u12a5\\u12a5\\u12a5\\u12a5\\n\\u12a0\\u1201\\u1295 \\u12ed\\u123b\\u120b\\u120d \\u1290\\u12cd \\u12a5\\u1295\\u1302 \\u1230\\u121e\\u1291\\u1295 \\u12a8\\u1263\\u12f5 \\u1290\\u1260\\u122d\\n\\u1230\\u121e\\u1291\\u1295 \\u121b\\u1208\\u1275 \\u1235\\u1295\\u1275 \\u1240\\u1295 \\u1290\\u12cd\\n\\u1236\\u1235\\u1275 \\u1240\\u1291\\n\\u1236\\u1235\\u1275 \\u1240\\u1291 \\u1290\\u12cd\\n\\u1230\\u121e\\u1291\\u1295 \\u1218\\u12f5\\u1200\\u1292\\u1275 \\u12c8\\u1235\\u1304\\u1260\\u1275 \\u1290\\u1260\\u122d \\u12a0\\u1201\\u1295 \\u1275\\u1295\\u123d \\u1246\\u121d \\u1265\\u120f\\u120d\\n\\u1246\\u121d \\u1265\\u120f\\u120d\\n\\u1205\\u1205\\u1205\\n\\u12a0\\u1201\\u1295\\u121d \\u12eb\\u1233\\u12eb\\u120d \\u12eb\\u1235\\u1240\\u121d\\u1320\\u1203\\u120d\\n\\u12a0\\u12ce \\u12a0\\u120d\\u134e \\u12a0\\u120d\\u134e \\u12a0\\u1208\\u12cd\\n\\u12a0\\u120d\\u134e \\u12a0\\u120d\\u134e \\u12a0\\u1208\\u12cd\\n\\u12a0\\u12ce \\u1260\\u12da\\u1205 \\u1201\\u1208\\u1275 \\u1240\\u1291 \\u12cd\\u1235\\u1325\\n\\u12a5\\u1295\\u12f4\\u1275 \\u1290\\u12cd\\n\\u1320\\u1245\\u121b\\u1271\\u1295 \\u12a0\\u12ed\\u1270\\u12cb\\u120d \\u12e8\\u1240\\u120b\\u1240\\u1208 \\u1290\\u12cd \\u12c8\\u12ed \\u12cd\\u1203 \\u12e8\\u121a\\u1218\\u1235\\u120d\\n\\u12cd\\u1203 \\u1348\\u1233\\u123d \\u1290\\u1308\\u122d \\u1290\\u12cd\\n\\u12cd\\u1203 \\u12e8\\u121a\\u1218\\u1235\\u120d\\n\\u120c\\u120b \\u12eb\\u1218\\u1218 \\u1290\\u1308\\u122d \\u12e8\\u1208\\u121d \\u12a8\\u12da\\u1205 \\u12cd\\u132d\\n\\u120c\\u120b \\u12a0\\u120d\\u134e \\u12a0\\u120d\\u134e \\u12c8\\u1308\\u1264 \\u12a0\\u12ab\\u1263\\u1262\\n\\u12c8\\u1308\\u1265\\u1205 \\u12a0\\u12ab\\u1263\\u1262 \\u120c\\u120b\\u1235\\n\\u1241\\u132d \\u1235\\u120d \\u121d\\u1295\\u1293\\u121d\\u1295\\n\\u12a5\\u123a\\n\\u120c\\u120b \\u12e8\\u121a\\u1230\\u121b\\u1205 \\u1290\\u1308\\u122d \\u12a0\\u1208\\n\\u120c\\u120b \\u1230\\u120b\\u121d \\u1290\\u12cd\\n\\u120c\\u120b\\u12cd \\u1218\\u12f5\\u1200\\u1292\\u1271\\u1295 \\u12a8\\u12c8\\u1230\\u12f5\\u12a9\\u129d \\u1261\\u1283\\u120b \\u12eb\\u12cd \\u1275\\u1295\\u123d \\u12ed\\u123b\\u120b\\u120d\\n\\u1218\\u12f5\\u1200\\u1292\\u1271 \\u12e8\\u1275\\u1290\\u12cd \\u12e8\\u1273\\u12a8\\u121d\\u12a8\\u12cd\\n\\u1206\\u1235\\u1352\\u1273\\u120d\\n\\u1206\\u1235\\u1352\\u1273\\u120d \\u1290\\u12cd\\n\\u12a5\\u123a \\u12ed\\u1204 \\u1201\\u1209 \\u12ab\\u1218\\u1218\\u1205 \\u1235\\u1295\\u1275 \\u1240\\u1295 \\u1290\\u12cd\\n\\u1236\\u1235\\u1275 \\u1240\\u1295\\n\\u1236\\u1235\\u1275 \\u1240\\u1295\",\n          \"\\u12a5\\u1295\\u12f0\\u121d\\u1295 \\u12a0\\u12f0\\u1229 \\u121b\\u12d8\\u122d\\n\\u12f0\\u1205\\u1293 \\u12a0\\u12f0\\u122d\\u123d \\u120d\\u1304\\n\\u12f0\\u1205\\u1293 \\u1296\\u1275\\n\\u12a0\\u120b\\u1205\\u121d\\u12f1\\u120a\\u120b\\u1205\\n\\u1235\\u121e\\u1275\\u1295 \\u121b\\u1295 \\u120d\\u1260\\u120d\\n\\u1218\\u12f2\\u1293 \\u1260\\u123d\\u122d\\n\\u12a5\\u12f5\\u121c\\u12ce\\u1275 \\u1235\\u1295\\u1275 \\u1290\\u12cd\\n\\u12a0\\u122d\\u1263 \\u12a0\\u121d\\u1235\\u1275\\n\\u121d\\u1290\\u12cd \\u121d\\u1295 \\u1206\\u1290\\u12cd \\u1218\\u1321\\n\\u120d\\u1304 \\u1233\\u1235\\u1260\\u12cd \\u12f0\\u1228\\u1303 \\u12a0\\u1208\\u12cd \\u1264\\u1271 \\u12a5\\u1293 \\u1235\\u12c8\\u122d\\u12f5\\n\\u12c8\\u1208\\u121d \\u1265\\u120e\\u129d \\u1290\\u12cd \\u12a5\\u1295\\u1302 \\u1218\\u1230\\u1208\\u129d\\n\\u12ed\\u12c8\\u12d8\\u12cd\\u12d8\\u129b\\u120d\\n\\u12ed\\u12b8\\u12cd \\u1201\\u1208\\u1275 \\u1240\\u1295 \\u12a0\\u120d\\u134e\\u1273\\u120d\\n\\u1218\\u121d\\u1323\\u1275 \\u12a0\\u120d\\u127b\\u120d\\u12a9\\u121d\\n\\u12a0\\u1201\\u1295 \\u1275\\u1295\\u123d \\u123b\\u120d \\u1232\\u1208\\u129d\\n\\u12a5\\u123a \\u120d\\u1202\\u12f5 \\u1265\\u12e8 \\u12e8\\u1218\\u1323\\u1201\\u129d\\n\\u12ed\\u12c8\\u12d8\\u12cd\\u12d8\\u129b\\u120d\\n\\u1218\\u122d\\u1308\\u1325\\u121d \\u12a0\\u120d\\u127d\\u120d\\u121d\\n\\u12ed\\u12b8\\u12cd \\u12a5\\u1231 \\u1290\\u12cd\\n\\u12a5\\u1295\\u12f4\\u1275 \\u1265\\u1208\\u12cd \\u1290\\u1260\\u122d \\u12e8\\u12c8\\u12f0\\u1241\\u1275\\n\\u1238\\u122d\\u1270\\u1275 \\u12a0\\u12f5\\u122d\\u130e\\u129d \\u1290\\u12cd\\n\\u1219\\u1209 \\u1260\\u1219\\u1209 \\u1260\\u12a5\\u130d\\u122e\\u1275 \\u1290\\u12cd \\u12e8\\u12c8\\u12f0\\u1241\\u1275\\u1260\\u12e8\\u1290 \\u1260\\u12a9\\u120d \\u1290\\u12cd\\n\\u1260\\u12a0\\u1295\\u12f1 \\u130e\\u1295\\n\\u1260\\u12da\\u1205 \\u1260\\u130d\\u122b \\u1260\\u12a9\\u120d\\n\\u1260\\u1240\\u129d\\n\\u12a0\\u1201\\u1295 \\u12e8\\u1275\\u129b\\u12cd\\u1295 \\u12a5\\u130d\\u122e\\u1275\\u1295 \\u1290\\u12cd \\u12e8\\u121a\\u1230\\u121b\\u12ce\\u1275\\n\\u12ed\\u12b8\\u12cd \\u1240\\u129d \\u12a5\\u130d\\u122c\\n\\u12a5\\u1231 \\u1290\\u12cd \\u12a8\\u1309\\u120d\\u1260\\u1274 \\u1260\\u1273\\u127d\\n\\u12a6\\u12ac \\u1230\\u12cd \\u1290\\u1260\\u122d \\u1260\\u12a0\\u12a8\\u1263\\u1262\\u12cd\\n\\u12a0\\u12ce \\u1290\\u1260\\u1229 \\u120d\\u1306\\u127d \\u12c8\\u1323\\u1276\\u127d\\n\\u12a0\\u12ed\\u12de\\u123d \\u12a0\\u12ed\\u12de\\u123d \\u1265\\u1208\\u12cd \\u12a0\\u1290\\u1231\\u129d\\n\\u12a8\\u12db \\u12c8\\u12f0 \\u12a8\\u1264\\u1275 \\u1308\\u1263\\u12cd \\u12ed\\u123b\\u1208\\u129b\\u120d \\u12ed\\u123b\\u1208\\u129b\\u120d \\u1235\\u120d\\n\\u12a5\\u1295\\u12f2\\u12eb\\u12cd \\u1208\\u12cd\\u1325\\u121d \\u12a0\\u120b\\u1308\\u1298\\u1201\\u121d\\n\\u12ed\\u12b8\\u12cd \\u1290\\u12cd \\u120d\\u1304\\n\\u12a5\\u123a \\u12a0\\u12ed\\u12de\\u1275\"\n        ],\n        \"semantic_type\": \"\",\n        \"description\": \"\"\n      }\n    }\n  ]\n}"
            }
          },
          "metadata": {},
          "execution_count": 2
        }
      ]
    },
    {
      "cell_type": "code",
      "source": [
        "df.shape"
      ],
      "metadata": {
        "colab": {
          "base_uri": "https://localhost:8080/"
        },
        "id": "RY4s-vDwkmWK",
        "outputId": "8a9a6c3b-3312-4fdb-8abc-886f66bac90c"
      },
      "execution_count": 3,
      "outputs": [
        {
          "output_type": "execute_result",
          "data": {
            "text/plain": [
              "(89, 2)"
            ]
          },
          "metadata": {},
          "execution_count": 3
        }
      ]
    },
    {
      "cell_type": "markdown",
      "source": [
        "##Creating vocab.json"
      ],
      "metadata": {
        "id": "QGoFB6W6J0op"
      }
    },
    {
      "cell_type": "code",
      "source": [
        "import pandas as pd\n",
        "import json\n",
        "\n",
        "CSV_PATH = '/content/drive/MyDrive/trainingdata/dataset.csv'\n",
        "\n",
        "def main():\n",
        "    df = pd.read_csv(CSV_PATH)\n",
        "\n",
        "    # Join all transcriptions and extract unique characters\n",
        "    all_text = \" \".join(df[\"transcript\"].dropna())\n",
        "    unique_chars = sorted(set(all_text))  # Deduplicated, sorted list of characters\n",
        "\n",
        "    # Add special tokens\n",
        "    vocab = [\"<pad>\", \"<s>\", \"</s>\", \"<unk>\"] + unique_chars\n",
        "    vocab_dict = {char: idx for idx, char in enumerate(vocab)}\n",
        "\n",
        "    # Save to vocab.json\n",
        "    with open(\"vocab.json\", \"w\", encoding=\"utf-8\") as f:\n",
        "        json.dump(vocab_dict, f, ensure_ascii=False, indent=2)\n",
        "\n",
        "if __name__ == \"__main__\":\n",
        "    main()\n"
      ],
      "metadata": {
        "id": "9K_uMMMNJ3sF"
      },
      "execution_count": 6,
      "outputs": []
    },
    {
      "cell_type": "markdown",
      "source": [
        "##Finetuning"
      ],
      "metadata": {
        "id": "ci43cJvLKG1r"
      }
    },
    {
      "cell_type": "code",
      "source": [
        "!pip install evaluate jiwer"
      ],
      "metadata": {
        "colab": {
          "base_uri": "https://localhost:8080/"
        },
        "id": "ijaTlHmLk-Jy",
        "outputId": "21906431-57f0-4805-82b6-05d20d59a7c3"
      },
      "execution_count": 7,
      "outputs": [
        {
          "output_type": "stream",
          "name": "stdout",
          "text": [
            "Requirement already satisfied: evaluate in /usr/local/lib/python3.11/dist-packages (0.4.3)\n",
            "Requirement already satisfied: jiwer in /usr/local/lib/python3.11/dist-packages (3.1.0)\n",
            "Requirement already satisfied: datasets>=2.0.0 in /usr/local/lib/python3.11/dist-packages (from evaluate) (3.5.0)\n",
            "Requirement already satisfied: numpy>=1.17 in /usr/local/lib/python3.11/dist-packages (from evaluate) (2.0.2)\n",
            "Requirement already satisfied: dill in /usr/local/lib/python3.11/dist-packages (from evaluate) (0.3.8)\n",
            "Requirement already satisfied: pandas in /usr/local/lib/python3.11/dist-packages (from evaluate) (2.2.2)\n",
            "Requirement already satisfied: requests>=2.19.0 in /usr/local/lib/python3.11/dist-packages (from evaluate) (2.32.3)\n",
            "Requirement already satisfied: tqdm>=4.62.1 in /usr/local/lib/python3.11/dist-packages (from evaluate) (4.67.1)\n",
            "Requirement already satisfied: xxhash in /usr/local/lib/python3.11/dist-packages (from evaluate) (3.5.0)\n",
            "Requirement already satisfied: multiprocess in /usr/local/lib/python3.11/dist-packages (from evaluate) (0.70.16)\n",
            "Requirement already satisfied: fsspec>=2021.05.0 in /usr/local/lib/python3.11/dist-packages (from fsspec[http]>=2021.05.0->evaluate) (2024.12.0)\n",
            "Requirement already satisfied: huggingface-hub>=0.7.0 in /usr/local/lib/python3.11/dist-packages (from evaluate) (0.30.1)\n",
            "Requirement already satisfied: packaging in /usr/local/lib/python3.11/dist-packages (from evaluate) (24.2)\n",
            "Requirement already satisfied: click>=8.1.8 in /usr/local/lib/python3.11/dist-packages (from jiwer) (8.1.8)\n",
            "Requirement already satisfied: rapidfuzz>=3.9.7 in /usr/local/lib/python3.11/dist-packages (from jiwer) (3.13.0)\n",
            "Requirement already satisfied: filelock in /usr/local/lib/python3.11/dist-packages (from datasets>=2.0.0->evaluate) (3.18.0)\n",
            "Requirement already satisfied: pyarrow>=15.0.0 in /usr/local/lib/python3.11/dist-packages (from datasets>=2.0.0->evaluate) (18.1.0)\n",
            "Requirement already satisfied: aiohttp in /usr/local/lib/python3.11/dist-packages (from datasets>=2.0.0->evaluate) (3.11.15)\n",
            "Requirement already satisfied: pyyaml>=5.1 in /usr/local/lib/python3.11/dist-packages (from datasets>=2.0.0->evaluate) (6.0.2)\n",
            "Requirement already satisfied: typing-extensions>=3.7.4.3 in /usr/local/lib/python3.11/dist-packages (from huggingface-hub>=0.7.0->evaluate) (4.13.1)\n",
            "Requirement already satisfied: charset-normalizer<4,>=2 in /usr/local/lib/python3.11/dist-packages (from requests>=2.19.0->evaluate) (3.4.1)\n",
            "Requirement already satisfied: idna<4,>=2.5 in /usr/local/lib/python3.11/dist-packages (from requests>=2.19.0->evaluate) (3.10)\n",
            "Requirement already satisfied: urllib3<3,>=1.21.1 in /usr/local/lib/python3.11/dist-packages (from requests>=2.19.0->evaluate) (2.3.0)\n",
            "Requirement already satisfied: certifi>=2017.4.17 in /usr/local/lib/python3.11/dist-packages (from requests>=2.19.0->evaluate) (2025.1.31)\n",
            "Requirement already satisfied: python-dateutil>=2.8.2 in /usr/local/lib/python3.11/dist-packages (from pandas->evaluate) (2.8.2)\n",
            "Requirement already satisfied: pytz>=2020.1 in /usr/local/lib/python3.11/dist-packages (from pandas->evaluate) (2025.2)\n",
            "Requirement already satisfied: tzdata>=2022.7 in /usr/local/lib/python3.11/dist-packages (from pandas->evaluate) (2025.2)\n",
            "Requirement already satisfied: aiohappyeyeballs>=2.3.0 in /usr/local/lib/python3.11/dist-packages (from aiohttp->datasets>=2.0.0->evaluate) (2.6.1)\n",
            "Requirement already satisfied: aiosignal>=1.1.2 in /usr/local/lib/python3.11/dist-packages (from aiohttp->datasets>=2.0.0->evaluate) (1.3.2)\n",
            "Requirement already satisfied: attrs>=17.3.0 in /usr/local/lib/python3.11/dist-packages (from aiohttp->datasets>=2.0.0->evaluate) (25.3.0)\n",
            "Requirement already satisfied: frozenlist>=1.1.1 in /usr/local/lib/python3.11/dist-packages (from aiohttp->datasets>=2.0.0->evaluate) (1.5.0)\n",
            "Requirement already satisfied: multidict<7.0,>=4.5 in /usr/local/lib/python3.11/dist-packages (from aiohttp->datasets>=2.0.0->evaluate) (6.3.2)\n",
            "Requirement already satisfied: propcache>=0.2.0 in /usr/local/lib/python3.11/dist-packages (from aiohttp->datasets>=2.0.0->evaluate) (0.3.1)\n",
            "Requirement already satisfied: yarl<2.0,>=1.17.0 in /usr/local/lib/python3.11/dist-packages (from aiohttp->datasets>=2.0.0->evaluate) (1.18.3)\n",
            "Requirement already satisfied: six>=1.5 in /usr/local/lib/python3.11/dist-packages (from python-dateutil>=2.8.2->pandas->evaluate) (1.17.0)\n"
          ]
        }
      ]
    },
    {
      "cell_type": "code",
      "source": [
        "!chmod +x /content/train_v4-colab.py"
      ],
      "metadata": {
        "id": "7IiK6xyRlBhL"
      },
      "execution_count": 22,
      "outputs": []
    },
    {
      "cell_type": "code",
      "source": [
        "\"\"\"\n",
        "facebook/wav2vec2-large-xlsr-53\n",
        "facebook/wav2vec2-xls-r-300m\n",
        "agkphysics/wav2vec2-large-xlsr-53-amharic\n",
        "\"\"\""
      ],
      "metadata": {
        "colab": {
          "base_uri": "https://localhost:8080/",
          "height": 106
        },
        "id": "NP-ydfALXkCK",
        "outputId": "bdce6a25-a52c-4d33-fa6b-2f3a9a58e841"
      },
      "execution_count": 29,
      "outputs": [
        {
          "output_type": "error",
          "ename": "SyntaxError",
          "evalue": "unterminated string literal (detected at line 4) (<ipython-input-29-82a199734c86>, line 4)",
          "traceback": [
            "\u001b[0;36m  File \u001b[0;32m\"<ipython-input-29-82a199734c86>\"\u001b[0;36m, line \u001b[0;32m4\u001b[0m\n\u001b[0;31m    \"\"\"\"\u001b[0m\n\u001b[0m       ^\u001b[0m\n\u001b[0;31mSyntaxError\u001b[0m\u001b[0;31m:\u001b[0m unterminated string literal (detected at line 4)\n"
          ]
        }
      ]
    },
    {
      "cell_type": "markdown",
      "source": [
        "### Try with facebook/wav2vec2-xls-r-300m"
      ],
      "metadata": {
        "id": "XZ-P7YrHcdPJ"
      }
    },
    {
      "cell_type": "code",
      "source": [
        "!export PYTORCH_CUDA_ALLOC_CONF=expandable_segments:True\n",
        "\n",
        "!python /content/train_v4-colab.py \\\n",
        "    --csv_path /content/drive/MyDrive/trainingdata/dataset.csv \\\n",
        "    --output_dir /content/drive/MyDrive/model-11-04/ \\\n",
        "    --base_model facebook/wav2vec2-xls-r-300m \\\n",
        "    --batch_size 4 \\\n",
        "    --eval_batch_size 2 \\\n",
        "    --gradient_accumulation_steps 4 \\\n",
        "    --fp16 \\\n",
        "    --gradient_checkpointing \\\n",
        "    --do_awgn \\\n",
        "    --do_masking \\\n",
        "    # --num_train_epochs 30 \\\n",
        "    # --max_steps 10000 \\\n",
        ""
      ],
      "metadata": {
        "colab": {
          "base_uri": "https://localhost:8080/"
        },
        "id": "75RuxhVbqllg",
        "outputId": "7e53948c-c073-4903-d759-9ec2cce1b0f8"
      },
      "execution_count": 32,
      "outputs": [
        {
          "output_type": "stream",
          "name": "stdout",
          "text": [
            "CUDA Available: True\n",
            "2025-04-11 10:25:08.999230: E external/local_xla/xla/stream_executor/cuda/cuda_fft.cc:477] Unable to register cuFFT factory: Attempting to register factory for plugin cuFFT when one has already been registered\n",
            "WARNING: All log messages before absl::InitializeLog() is called are written to STDERR\n",
            "E0000 00:00:1744367109.021487   19510 cuda_dnn.cc:8310] Unable to register cuDNN factory: Attempting to register factory for plugin cuDNN when one has already been registered\n",
            "E0000 00:00:1744367109.028188   19510 cuda_blas.cc:1418] Unable to register cuBLAS factory: Attempting to register factory for plugin cuBLAS when one has already been registered\n",
            "\u001b[34m\u001b[1mwandb\u001b[0m: Using wandb-core as the SDK backend.  Please refer to https://wandb.me/wandb-core for more information.\n",
            "\u001b[34m\u001b[1mwandb\u001b[0m: Appending key for api.wandb.ai to your netrc file: /root/.netrc\n",
            "\u001b[34m\u001b[1mwandb\u001b[0m: Currently logged in as: \u001b[33mthinkplaceai\u001b[0m (\u001b[33mthink-place-ai\u001b[0m) to \u001b[32mhttps://api.wandb.ai\u001b[0m. Use \u001b[1m`wandb login --relogin`\u001b[0m to force relogin\n",
            "preprocessor_config.json: 100% 212/212 [00:00<00:00, 1.39MB/s]\n",
            "config.json: 100% 1.57k/1.57k [00:00<00:00, 9.62MB/s]\n",
            "pytorch_model.bin: 100% 1.27G/1.27G [00:02<00:00, 430MB/s]\n",
            "Some weights of Wav2Vec2ForCTC were not initialized from the model checkpoint at facebook/wav2vec2-xls-r-300m and are newly initialized: ['lm_head.bias', 'lm_head.weight']\n",
            "You should probably TRAIN this model on a down-stream task to be able to use it for predictions and inference.\n",
            "Total training samples: 71\n",
            "Total validation samples: 18\n",
            "model.safetensors:  16% 199M/1.27G [00:00<00:02, 400MB/s]Successfully loaded: /content/drive/MyDrive/trainingdata/audio_054.wav\n",
            "Successfully loaded: /content/drive/MyDrive/trainingdata/audio_063.wav\n",
            "Successfully loaded: /content/drive/MyDrive/trainingdata/audio_040.wav\n",
            "Successfully loaded: /content/drive/MyDrive/trainingdata/audio_022.wav\n",
            "Successfully loaded: /content/drive/MyDrive/trainingdata/audio_059.wav\n",
            "model.safetensors:  46% 587M/1.27G [00:01<00:01, 470MB/s]\u001b[34m\u001b[1mwandb\u001b[0m: \u001b[33mWARNING\u001b[0m The `run_name` is currently set to the same value as `TrainingArguments.output_dir`. If this was not intended, please specify a different run name by setting the `TrainingArguments.run_name` parameter.\n",
            "model.safetensors:  70% 891M/1.27G [00:02<00:01, 350MB/s]\u001b[34m\u001b[1mwandb\u001b[0m: Tracking run with wandb version 0.19.9\n",
            "\u001b[34m\u001b[1mwandb\u001b[0m: Run data is saved locally in \u001b[35m\u001b[1m/content/wandb/run-20250411_102524-m86hpi7e\u001b[0m\n",
            "\u001b[34m\u001b[1mwandb\u001b[0m: Run \u001b[1m`wandb offline`\u001b[0m to turn off syncing.\n",
            "\u001b[34m\u001b[1mwandb\u001b[0m: Syncing run \u001b[33m/content/drive/MyDrive/model-11-04/\u001b[0m\n",
            "\u001b[34m\u001b[1mwandb\u001b[0m: ⭐️ View project at \u001b[34m\u001b[4mhttps://wandb.ai/think-place-ai/huggingface\u001b[0m\n",
            "\u001b[34m\u001b[1mwandb\u001b[0m: 🚀 View run at \u001b[34m\u001b[4mhttps://wandb.ai/think-place-ai/huggingface/runs/m86hpi7e\u001b[0m\n",
            "\n",
            "model.safetensors: 100% 1.27G/1.27G [00:04<00:00, 309MB/s]\n",
            "\n",
            "  1% 1/80 [00:13<18:02, 13.70s/it]\u001b[A\n",
            "  2% 2/80 [00:24<15:31, 11.94s/it]\u001b[A\n",
            "  4% 3/80 [00:39<17:13, 13.42s/it]\u001b[A\n",
            "  5% 4/80 [00:49<15:22, 12.14s/it]\u001b[A\n",
            "  6% 5/80 [01:01<14:53, 11.92s/it]\u001b[A\n",
            "  8% 6/80 [01:19<17:24, 14.12s/it]\u001b[A\n",
            "  9% 7/80 [01:27<14:47, 12.15s/it]\u001b[A\n",
            " 10% 8/80 [01:44<16:28, 13.72s/it]\u001b[A\n",
            " 11% 9/80 [01:48<12:34, 10.63s/it]\u001b[A\n",
            " 12% 10/80 [02:07<15:20, 13.15s/it]\u001b[A\n",
            " 14% 11/80 [02:19<14:43, 12.80s/it]\u001b[A\n",
            " 15% 12/80 [02:30<13:55, 12.29s/it]\u001b[A\n",
            " 16% 13/80 [02:46<14:46, 13.24s/it]\u001b[A\n",
            " 18% 14/80 [02:56<13:29, 12.26s/it]\u001b[A\n",
            " 19% 15/80 [03:05<12:17, 11.34s/it]\u001b[A\n",
            " 20% 16/80 [03:18<12:51, 12.05s/it]\u001b[A\n",
            " 21% 17/80 [03:29<12:06, 11.53s/it]\u001b[A\n",
            " 22% 18/80 [03:36<10:36, 10.27s/it]\u001b[A\n",
            " 24% 19/80 [03:48<10:52, 10.69s/it]\u001b[A\n",
            " 25% 20/80 [04:01<11:28, 11.48s/it]\u001b[A\n",
            " 26% 21/80 [04:16<12:10, 12.38s/it]\u001b[A\n",
            " 28% 22/80 [04:29<12:10, 12.60s/it]\u001b[A\n",
            " 29% 23/80 [04:37<10:38, 11.20s/it]\u001b[A\n",
            " 30% 24/80 [04:57<13:03, 13.99s/it]\u001b[A\n",
            " 31% 25/80 [05:06<11:21, 12.39s/it]\u001b[A\n",
            " 32% 26/80 [05:17<10:52, 12.08s/it]\u001b[A\n",
            " 34% 27/80 [05:24<09:10, 10.38s/it]\u001b[A\n",
            " 35% 28/80 [05:34<08:56, 10.31s/it]\u001b[A\n",
            " 36% 29/80 [05:51<10:27, 12.31s/it]\u001b[A\n",
            " 38% 30/80 [06:00<09:26, 11.33s/it]\u001b[A\n",
            " 39% 31/80 [06:13<09:45, 11.95s/it]\u001b[A\n",
            " 40% 32/80 [06:28<10:09, 12.70s/it]\u001b[A\n",
            " 41% 33/80 [06:38<09:21, 11.95s/it]\u001b[A\n",
            " 42% 34/80 [06:46<08:23, 10.95s/it]\u001b[A\n",
            " 44% 35/80 [06:58<08:26, 11.26s/it]\u001b[A\n",
            " 45% 36/80 [07:11<08:28, 11.56s/it]\u001b[A\n",
            " 46% 37/80 [07:25<08:48, 12.30s/it]\u001b[A\n",
            " 48% 38/80 [07:38<08:52, 12.68s/it]\u001b[A\n",
            " 49% 39/80 [07:47<07:49, 11.45s/it]\u001b[A\n",
            " 50% 40/80 [08:00<08:03, 12.09s/it]\u001b[A\n",
            " 51% 41/80 [08:09<07:11, 11.08s/it]\u001b[A\n",
            " 52% 42/80 [08:20<07:00, 11.07s/it]\u001b[A\n",
            " 54% 43/80 [08:34<07:24, 12.01s/it]\u001b[A\n",
            " 55% 44/80 [08:46<07:13, 12.05s/it]\u001b[A\n",
            " 56% 45/80 [08:57<06:44, 11.56s/it]\u001b[A\n",
            " 57% 46/80 [09:09<06:33, 11.58s/it]\u001b[A\n",
            " 59% 47/80 [09:24<06:57, 12.64s/it]\u001b[A\n",
            " 60% 48/80 [09:40<07:17, 13.67s/it]\u001b[A\n",
            " 61% 49/80 [09:50<06:34, 12.72s/it]\u001b[A\n",
            " 62% 50/80 [10:00<05:55, 11.85s/it]\u001b[A\n",
            " 64% 51/80 [10:08<05:09, 10.66s/it]\u001b[A\n",
            " 65% 52/80 [10:24<05:42, 12.24s/it]\u001b[A\n",
            " 66% 53/80 [10:33<05:07, 11.37s/it]\u001b[A\n",
            " 68% 54/80 [10:44<04:52, 11.24s/it]\u001b[A\n",
            " 69% 55/80 [10:57<04:52, 11.69s/it]\u001b[A\n",
            " 70% 56/80 [11:12<05:07, 12.81s/it]\u001b[A\n",
            " 71% 57/80 [11:30<05:26, 14.20s/it]\u001b[A\n",
            " 72% 58/80 [11:40<04:48, 13.13s/it]\u001b[A\n",
            " 74% 59/80 [11:51<04:22, 12.52s/it]\u001b[A\n",
            " 75% 60/80 [12:01<03:49, 11.48s/it]\u001b[A\n",
            " 76% 61/80 [12:11<03:29, 11.04s/it]\u001b[A\n",
            " 78% 62/80 [12:21<03:14, 10.79s/it]\u001b[A\n",
            " 79% 63/80 [12:31<03:01, 10.67s/it]\u001b[A\n",
            " 80% 64/80 [12:45<03:06, 11.67s/it]\u001b[A\n",
            " 81% 65/80 [12:59<03:05, 12.37s/it]\u001b[A\n",
            " 82% 66/80 [13:11<02:51, 12.22s/it]\u001b[A\n",
            " 84% 67/80 [13:25<02:46, 12.80s/it]\u001b[A\n",
            " 85% 68/80 [13:35<02:22, 11.84s/it]\u001b[A\n",
            " 86% 69/80 [13:46<02:08, 11.72s/it]\u001b[A\n",
            " 88% 70/80 [13:57<01:53, 11.33s/it]\u001b[A\n",
            " 89% 71/80 [14:08<01:42, 11.43s/it]\u001b[A\n",
            " 90% 72/80 [14:18<01:27, 10.95s/it]\u001b[A\n",
            " 91% 73/80 [14:28<01:14, 10.67s/it]\u001b[A\n",
            " 92% 74/80 [14:47<01:18, 13.08s/it]\u001b[A\n",
            " 94% 75/80 [14:55<00:58, 11.68s/it]\u001b[A\n",
            " 95% 76/80 [15:06<00:45, 11.41s/it]\u001b[A\n",
            " 96% 77/80 [15:16<00:32, 10.95s/it]\u001b[A\n",
            " 98% 78/80 [15:32<00:25, 12.61s/it]\u001b[A\n",
            " 99% 79/80 [15:48<00:13, 13.40s/it]\u001b[A\n",
            "100% 80/80 [15:52<00:00, 10.60s/it]\u001b[A\n",
            "\u001b[A{'train_runtime': 963.5156, 'train_samples_per_second': 0.737, 'train_steps_per_second': 0.083, 'train_loss': 28737.140625, 'epoch': 8.9}\n",
            "\n",
            "100% 80/80 [16:02<00:00, 12.03s/it]\n",
            "✅ Model and processor saved to: /content/drive/MyDrive/model-11-04\n",
            "100% 9/9 [00:05<00:00,  1.27it/s]* wer: 1.0, cer: 0.9987856217616581\n",
            "100% 9/9 [00:05<00:00,  1.61it/s]\n",
            "\u001b[1;34mwandb\u001b[0m: \n",
            "\u001b[1;34mwandb\u001b[0m: 🚀 View run \u001b[33m/content/drive/MyDrive/model-11-04/\u001b[0m at: \u001b[34mhttps://wandb.ai/think-place-ai/huggingface/runs/m86hpi7e\u001b[0m\n",
            "\u001b[1;34mwandb\u001b[0m: Find logs at: \u001b[1;35mwandb/run-20250411_102524-m86hpi7e/logs\u001b[0m\n"
          ]
        }
      ]
    },
    {
      "cell_type": "markdown",
      "source": [
        "### Try with agkphysics/wav2vec2-large-xlsr-53-amharic"
      ],
      "metadata": {
        "id": "WlLT4sASckFA"
      }
    },
    {
      "cell_type": "code",
      "source": [
        "!export PYTORCH_CUDA_ALLOC_CONF=expandable_segments:True\n",
        "\n",
        "!python /content/train_v4-colab.py \\\n",
        "    --csv_path /content/drive/MyDrive/trainingdata/dataset.csv \\\n",
        "    --output_dir /content/drive/MyDrive/model-11-04/ \\\n",
        "    --base_model agkphysics/wav2vec2-large-xlsr-53-amharic \\\n",
        "    --batch_size 4 \\\n",
        "    --eval_batch_size 2 \\\n",
        "    --gradient_accumulation_steps 4 \\\n",
        "    --fp16 \\\n",
        "    --gradient_checkpointing \\\n",
        "    --do_awgn \\\n",
        "    --do_masking \\\n",
        "    # --num_train_epochs 30 \\\n",
        "    # --max_steps 10000 \\\n",
        ""
      ],
      "metadata": {
        "colab": {
          "base_uri": "https://localhost:8080/"
        },
        "id": "Iy2N32jZcoNE",
        "outputId": "b105be94-1a05-4346-85d0-3df1a6959ba0"
      },
      "execution_count": 39,
      "outputs": [
        {
          "output_type": "stream",
          "name": "stdout",
          "text": [
            "CUDA Available: True\n",
            "2025-04-11 11:21:14.154152: E external/local_xla/xla/stream_executor/cuda/cuda_fft.cc:477] Unable to register cuFFT factory: Attempting to register factory for plugin cuFFT when one has already been registered\n",
            "WARNING: All log messages before absl::InitializeLog() is called are written to STDERR\n",
            "E0000 00:00:1744370474.175997   33952 cuda_dnn.cc:8310] Unable to register cuDNN factory: Attempting to register factory for plugin cuDNN when one has already been registered\n",
            "E0000 00:00:1744370474.182631   33952 cuda_blas.cc:1418] Unable to register cuBLAS factory: Attempting to register factory for plugin cuBLAS when one has already been registered\n",
            "\u001b[34m\u001b[1mwandb\u001b[0m: Using wandb-core as the SDK backend.  Please refer to https://wandb.me/wandb-core for more information.\n",
            "\u001b[34m\u001b[1mwandb\u001b[0m: Appending key for api.wandb.ai to your netrc file: /root/.netrc\n",
            "\u001b[34m\u001b[1mwandb\u001b[0m: Currently logged in as: \u001b[33mthinkplaceai\u001b[0m (\u001b[33mthink-place-ai\u001b[0m) to \u001b[32mhttps://api.wandb.ai\u001b[0m. Use \u001b[1m`wandb login --relogin`\u001b[0m to force relogin\n",
            "Total training samples: 71\n",
            "Total validation samples: 18\n",
            "Successfully loaded: /content/drive/MyDrive/trainingdata/audio_054.wav\n",
            "Successfully loaded: /content/drive/MyDrive/trainingdata/audio_063.wav\n",
            "Successfully loaded: /content/drive/MyDrive/trainingdata/audio_040.wav\n",
            "Successfully loaded: /content/drive/MyDrive/trainingdata/audio_022.wav\n",
            "Successfully loaded: /content/drive/MyDrive/trainingdata/audio_059.wav\n",
            "\u001b[34m\u001b[1mwandb\u001b[0m: \u001b[33mWARNING\u001b[0m The `run_name` is currently set to the same value as `TrainingArguments.output_dir`. If this was not intended, please specify a different run name by setting the `TrainingArguments.run_name` parameter.\n",
            "\u001b[34m\u001b[1mwandb\u001b[0m: Tracking run with wandb version 0.19.9\n",
            "\u001b[34m\u001b[1mwandb\u001b[0m: Run data is saved locally in \u001b[35m\u001b[1m/content/wandb/run-20250411_112126-6mj3398d\u001b[0m\n",
            "\u001b[34m\u001b[1mwandb\u001b[0m: Run \u001b[1m`wandb offline`\u001b[0m to turn off syncing.\n",
            "\u001b[34m\u001b[1mwandb\u001b[0m: Syncing run \u001b[33m/content/drive/MyDrive/model-11-04/\u001b[0m\n",
            "\u001b[34m\u001b[1mwandb\u001b[0m: ⭐️ View project at \u001b[34m\u001b[4mhttps://wandb.ai/think-place-ai/huggingface\u001b[0m\n",
            "\u001b[34m\u001b[1mwandb\u001b[0m: 🚀 View run at \u001b[34m\u001b[4mhttps://wandb.ai/think-place-ai/huggingface/runs/6mj3398d\u001b[0m\n",
            "{'train_runtime': 495.6827, 'train_samples_per_second': 0.716, 'train_steps_per_second': 0.081, 'train_loss': 8.757714080810548, 'epoch': 4.45}\n",
            "100% 40/40 [08:14<00:00, 12.37s/it]\n",
            "✅ Model and processor saved to: /content/drive/MyDrive/model-11-04\n",
            "100% 9/9 [00:05<00:00,  1.25it/s]* wer: 9.055555555555555, cer: 0.9704103103629669\n",
            "100% 9/9 [00:05<00:00,  1.60it/s]\n",
            "\u001b[1;34mwandb\u001b[0m: \n",
            "\u001b[1;34mwandb\u001b[0m: 🚀 View run \u001b[33m/content/drive/MyDrive/model-11-04/\u001b[0m at: \u001b[34mhttps://wandb.ai/think-place-ai/huggingface/runs/6mj3398d\u001b[0m\n",
            "\u001b[1;34mwandb\u001b[0m: Find logs at: \u001b[1;35mwandb/run-20250411_112126-6mj3398d/logs\u001b[0m\n"
          ]
        }
      ]
    },
    {
      "cell_type": "code",
      "source": [
        "# %cd /content/outputs/checkpoint-24\n",
        "# !ls -l"
      ],
      "metadata": {
        "colab": {
          "base_uri": "https://localhost:8080/"
        },
        "id": "97w6CppdndPV",
        "outputId": "f4cd797f-8506-48ce-d842-b54a908af219"
      },
      "execution_count": 13,
      "outputs": [
        {
          "output_type": "stream",
          "name": "stdout",
          "text": [
            "/content/outputs/checkpoint-24\n",
            "total 3699808\n",
            "-rw-r--r-- 1 root root       2283 Apr 11 06:49 config.json\n",
            "-rw-r--r-- 1 root root 1262766880 Apr 11 06:49 model.safetensors\n",
            "-rw-r--r-- 1 root root 2525783498 Apr 11 06:49 optimizer.pt\n",
            "-rw-r--r-- 1 root root      14308 Apr 11 06:49 rng_state.pth\n",
            "-rw-r--r-- 1 root root        988 Apr 11 06:49 scaler.pt\n",
            "-rw-r--r-- 1 root root       1064 Apr 11 06:49 scheduler.pt\n",
            "-rw-r--r-- 1 root root        783 Apr 11 06:49 trainer_state.json\n",
            "-rw-r--r-- 1 root root       5368 Apr 11 06:49 training_args.bin\n"
          ]
        }
      ]
    },
    {
      "cell_type": "markdown",
      "source": [
        "#Testing"
      ],
      "metadata": {
        "id": "Dy0UKY_O_hVC"
      }
    },
    {
      "cell_type": "code",
      "source": [
        "def transcribe_audio(audio_path, model_path):\n",
        "    from transformers import Wav2Vec2Processor, Wav2Vec2ForCTC\n",
        "    import torch\n",
        "    import librosa\n",
        "\n",
        "    # Load processor and model\n",
        "    processor = Wav2Vec2Processor.from_pretrained(model_path)\n",
        "    model = Wav2Vec2ForCTC.from_pretrained(model_path)\n",
        "    model.eval()\n",
        "\n",
        "    # Load audio\n",
        "    audio_input, _ = librosa.load(audio_path, sr=16000)\n",
        "\n",
        "    # Prepare input\n",
        "    inputs = processor(audio_input, return_tensors=\"pt\", sampling_rate=16000)\n",
        "\n",
        "    # Predict\n",
        "    with torch.no_grad():\n",
        "        logits = model(**inputs).logits\n",
        "    pred_ids = torch.argmax(logits, dim=-1)\n",
        "\n",
        "    # Decode\n",
        "    return processor.batch_decode(pred_ids)[0]"
      ],
      "metadata": {
        "id": "43DGis3nrjEr"
      },
      "execution_count": 2,
      "outputs": []
    },
    {
      "cell_type": "code",
      "source": [
        "print(transcribe_audio(\"/content/Wukro HC-Tewelde-03.m4a\", \"/content/drive/MyDrive/model-11-04\"))"
      ],
      "metadata": {
        "colab": {
          "base_uri": "https://localhost:8080/"
        },
        "id": "WSIbZVcxrkTA",
        "outputId": "7467afaf-44e8-4432-e64e-9b00f31d63d2"
      },
      "execution_count": 42,
      "outputs": [
        {
          "output_type": "stream",
          "name": "stderr",
          "text": [
            "<ipython-input-36-144832f67f39>:12: UserWarning: PySoundFile failed. Trying audioread instead.\n",
            "  audio_input, _ = librosa.load(audio_path, sr=16000)\n",
            "/usr/local/lib/python3.11/dist-packages/librosa/core/audio.py:184: FutureWarning: librosa.core.audio.__audioread_load\n",
            "\tDeprecated as of librosa version 0.10.0.\n",
            "\tIt will be removed in librosa version 1.0.\n",
            "  y, sr_native = __audioread_load(path, offset, duration, dtype)\n"
          ]
        },
        {
          "output_type": "stream",
          "name": "stdout",
          "text": [
            "ሺህ ሰላም እንዴት መክን የተወልደ ን ይንባለው እዚ ሄየጤናባለሙያ ነኝ የስምንት ማንድሽ ገብሮ አምላክ ባላለሁ በ ኦብር አምላክ እድሚ ሂ ስንት ነው ጸራሳ አምስት ጽወታ ጐንድ ጾጥጣ ወንድሽ ስልኩ ጥረስንት ነው ጄሮታይ መምር አራት ይህን አገጓዘጻ ይህን አንምሳ ይህን አባዜታይ ሺ ገብረ አምናኬ ትን የመጣኸው ውቅሮከ ኡቅሮ ከዚህ ክህ ከተነ ኦቅሮ ሀገራ ውን ጣቢያ ሺ ምንድ ነበር ያመመአአሁኔካሚያመኝ ሶስት ከሚያሮኩት ና አጉንፋ ና ለ ን ያሰለ ኛል ያስ ለ አህል አውአደሚ አሳላ ለማታ ማታ ብርድ ሲ ሆኖ ም ውሰጥ ኢናእስንፋስም ያጥረኛ ን እህን እዚያ ተያይዞ በ ግራጐሚእመም ይሰማ ኛልሁ እውጋ ታንህ እኡጋታለህ አዎጋሌሌላንስ ውድቅ ቅቁርጠት ም ናምንለ ኦዴ ዳ ና ነው የህነ ሳሉ ንው ወጣሚ የ ከበደ ይህ ዛጋ ተያይዘኦኦኤድካምሰማኛልአኤተለዥ ቦታዎችን ድኑ ቅርጥ ማት ሳለኝ እነሚሰማኛል ሙንየትላ ያለ ራስንትትም ሰማ ኛል የሽት ኩሳታለ ትኩሳትልኝ አልፍ አልፎ አውጥ ኩሳታን ለኝ በትለኝ ማታ የምሰኛል ኢሞታ ላይ በጣማ አለ ኛያትኩሳትንው ያለኝ ትኩሳትከመቼ የ ጀምረው ን ኦዛሬ በ ሶስት ቀናርጐ ሶስት ክን ሆነ\n"
          ]
        }
      ]
    },
    {
      "cell_type": "code",
      "source": [
        "print(transcribe_audio(\"/content/wukro health center_Dr. mengistu_4.aac\", \"/content/drive/MyDrive/model-11-04\"))"
      ],
      "metadata": {
        "colab": {
          "base_uri": "https://localhost:8080/"
        },
        "id": "iMHTefyONG9J",
        "outputId": "d7c1338c-d73b-4429-d80c-762465dca96b"
      },
      "execution_count": 3,
      "outputs": [
        {
          "output_type": "stream",
          "name": "stderr",
          "text": [
            "<ipython-input-2-144832f67f39>:12: UserWarning: PySoundFile failed. Trying audioread instead.\n",
            "  audio_input, _ = librosa.load(audio_path, sr=16000)\n",
            "/usr/local/lib/python3.11/dist-packages/librosa/core/audio.py:184: FutureWarning: librosa.core.audio.__audioread_load\n",
            "\tDeprecated as of librosa version 0.10.0.\n",
            "\tIt will be removed in librosa version 1.0.\n",
            "  y, sr_native = __audioread_load(path, offset, duration, dtype)\n"
          ]
        },
        {
          "output_type": "stream",
          "name": "stdout",
          "text": [
            "እሺ ሰላም እንደ ቻደርዚያምሴን ሼ ማል በህል ስምህን ስንገረን ስሜተወንደ ባላሎሆኝ ተወልደ ቶልዶማ እንደ ገብሮ አህረድ ተወልደ የወር ዋአሀድሼእድሜ እድሜ ሳላሳ ዜጠኝ ሰላሳ ዘጠኝሺ ጸሁታ ጾታው ወንድ ወንስል ቁጥርኝኖር አሀልተወልደ ስልጱጥራ ለኝ የሽቀኝ የረጋ ኝ አላክስኞ ቀረፈቅምም ራቀባት በበጥሯቅቅድቅ እሺ አላቀቀራፋ ውሼ ወጣ መረከየትን የመጠሀውሁ ተወልደ እኔ እንኳ ን የመጣሁት ከ አጽ ሊንሆን አጽም ቀሌኤከ ከተማ አጽቤ ከተማ ማኬ ዛሜ መጣ ሀብ ኤሼ እሽ ም ንድመብ ሰማህ ተወልደ እእኔ ራሴ ን ያም ኛን በጣም ራሴ ያመኛል ምንሽ ርአስምታቷለ ስአቀም ሆነው በጀመረ ኦኦኦወደ ዛሪት ወስተኛ ቅን ዚያዊትሆኜ ቀኔ ነው የነሼ ሌላ ምጻሜየ ረንጶ ወውርጠት ነገርማለ ኝ እሽ ኤየ አጥንቴ የ መገጣጠማ አካባቢው ን ትን ሽያመ ኛል ሆኖ ን ዋለሁ ኦትኩሳት ማለ ኝ ትኩሳቷለህ በ ዋናኝምምትትኢእያስቸግሩ ኛልም እንነ ዜናችሁ የሚኬትመሳሳይ ነ ሁሉም አሶስት ቀን ሆነው ከ ጀመረ ሰአምስአይመጀመሪያ ራስምታት ን የ ጀመረኝ ከዛ በኋላ ትንሽ ትኩሳት ከዚያ ተከትሎ መጣ ምሽቀዚያ በኋላ ያለው ግን እየ መጣም መሄድ አይነትትኩሳት ና ል ምምሼ በጣመር አስካመራብሽ\n"
          ]
        }
      ]
    },
    {
      "cell_type": "code",
      "source": [
        "print(transcribe_audio(\"/content/wukro health center_Dr. mengistu_3.aac\", \"/content/drive/MyDrive/model-11-04\"))"
      ],
      "metadata": {
        "colab": {
          "base_uri": "https://localhost:8080/"
        },
        "id": "t7Bn1FOU_1gZ",
        "outputId": "65f95cd2-6853-4138-90b8-a73cfc412bbe"
      },
      "execution_count": 3,
      "outputs": [
        {
          "output_type": "stream",
          "name": "stderr",
          "text": [
            "<ipython-input-2-144832f67f39>:12: UserWarning: PySoundFile failed. Trying audioread instead.\n",
            "  audio_input, _ = librosa.load(audio_path, sr=16000)\n",
            "/usr/local/lib/python3.11/dist-packages/librosa/core/audio.py:184: FutureWarning: librosa.core.audio.__audioread_load\n",
            "\tDeprecated as of librosa version 0.10.0.\n",
            "\tIt will be removed in librosa version 1.0.\n",
            "  y, sr_native = __audioread_load(path, offset, duration, dtype)\n"
          ]
        },
        {
          "output_type": "stream",
          "name": "stdout",
          "text": [
            "እሺ ሰላም እንዴ ታደርስሽ ቀያቤሙየሚሰናሜ ሽ ማስምስመንልበን ኢሌትንም ኢባ ናነው ሙሺ ቤት ልህማ አያኢሳንንቤትልህሆ ላ ሺ እድሜ አርባ ም ምሽ ሺጸኦታ ፊጹውታ ሴት ሺ ስል ቁጥር ዩኖር ሳልትአዋን ኝእሺ ዛጠኝ ጀረዝጠኝክ አሀያ ስድስት ማሰማኒያ ሁለት አእስር ዘማኒያ ስምን እሺ ክሽስ ነው የመጣሽው ቤቴ ያዚክኦቅራሜ ሙቁረው እሼ ቀበሌ ቀበሌ አቃጪ አግአዚቀወሌ ሽ በጠመር እሺ ም ንድነው ም ሰማሽ ቤት እኒጇግንቫንስተለኛክሙ እንካን ምሽ ስም ትኩሳ ታለ ሽሽ ስንት ቀኑ ስን ጥቀኑ በጀመረ ስቀን ሚናሚያልቅ ሶስት ቀን እሺ ሌላምን እስማ ሻርጉ እንፋ ኑ አክ ታለው ዎሽ ያላውም ደረቃታደረግ ነው ኦኦሼ ራስ ም ምታያት ሌላ ምስት ምሰማሽ ነገርላላ ኦአሻላማኞ ኦኬ እሺ የ ምግብ ፍላጓሁት እንዴት ነው አይገብትም ምግብ እየ ወላሻአደለ ምሀአእሺ ሌላ ም ን ይሰማሻ ህልየላበቀድቃም ና ሚተማ እድከማለሁ አከመለሁ ደሊት ሌሊት ያለብሻል እንዴ አንዳአንድ አንድ ንልሄጠማኒሺሽ ማስነት ጠስ ማከክ መላምና ለሁ ኢአቅአያ ሰክክም መስነጥጠስ ም ያለውም እሽ ወጣ ማርችደሽ\n"
          ]
        }
      ]
    },
    {
      "cell_type": "code",
      "source": [
        "print(transcribe_audio(\"/content/Wukro health center-Tewelde-04.m4a\", \"/content/drive/MyDrive/model-11-04\"))"
      ],
      "metadata": {
        "colab": {
          "base_uri": "https://localhost:8080/"
        },
        "id": "Ah1Ro8UqBvsW",
        "outputId": "b0df5c5e-ff24-4968-baf7-c710e4e10815"
      },
      "execution_count": 4,
      "outputs": [
        {
          "output_type": "stream",
          "name": "stderr",
          "text": [
            "<ipython-input-2-144832f67f39>:12: UserWarning: PySoundFile failed. Trying audioread instead.\n",
            "  audio_input, _ = librosa.load(audio_path, sr=16000)\n",
            "/usr/local/lib/python3.11/dist-packages/librosa/core/audio.py:184: FutureWarning: librosa.core.audio.__audioread_load\n",
            "\tDeprecated as of librosa version 0.10.0.\n",
            "\tIt will be removed in librosa version 1.0.\n",
            "  y, sr_native = __audioread_load(path, offset, duration, dtype)\n"
          ]
        },
        {
          "output_type": "stream",
          "name": "stdout",
          "text": [
            "የሽ ደ ና ዎል ክ እኔ የተወልደ ገብሮ አህድባ ላልዶ ሆኝ የዜ የ ጤና ባለሙያ ነኝ ስምህ ማንድ በን ስሜን የብራ ነቀብሮጀርአል ማዮር ብርሀኔ ብርሀን እድም ሄ ስንት ነው እድሜ ሀያ ዘጠኝ እድማ አያ ዘጠኝ ኤጾታ ጾተተባርሺ ጠታ ወንድ ኤስል ቁጥር ስልት ቁጥር ዜረ ዘጠኝ አሆ አምስት አርባ አምስት ሴረስዋት ዜሮሰ ባት ሳላሳው አራት ሳላሳ አራት አስራ አምስት አስራ አምስት ኤሺ ብርሀነ ከ የትን የመጣ ሀኔ መጣ ሁት ከ ወቅራ ነው የመጣ ሁት ከ ሞቅሯ ቀበሌ አየር መባላል ካህ ዬ ለሙቀበሌ ዞ ና ዞ ና አራት ዞ ና አራት ቀበሌ ው እ ለት ኦርነአሽኤም ንድነበር ያምመመፍ ብርሀነ እኒያመምን የጉንፋን ነው ጉንፋ ን ነሁ ኦያስ ለሀል ኦእሼ ከመቼ ጀምሮ ነውምሚያስስለ አስታተ ሶስት ቀንማመን አጐ ሶስት ቀን ሆነ አህል ኤሼ ሌልስመናለከው ጉንፋ አምንይሆን አክታ ነ ክርምናመ ናለ ኝ ያክ ታለ ው ራብ ሆነ ፈዛሽ ነገር ላለሁ ነሺ አክታለሁ ትኩሳት ሳለ አንዴ ኦቱከስ ትኩሳልድሞ አልፓለሞንዶ የሚየሚያመኝ ማለመሽሌላ ስ ራስ ምትሀት አወራስፍታት ሞአለ ኝ የረስተ እሽ ራአስመታት ትኩሳት ምናኝነት ኖ አንዴ ምእንደ መጣበሚ ቆም ነው ወይ ስ መጣሂድ መለ አልጧልፎ ነው የሚመጣኝ አልፋልፎ ነነው ሚመጣ እሺ ብርሀንዬ ያው\n"
          ]
        }
      ]
    },
    {
      "cell_type": "code",
      "source": [
        "print(transcribe_audio(\"/content/Wukro health center-Tewelde-05.m4a\", \"/content/drive/MyDrive/model-11-04\"))"
      ],
      "metadata": {
        "colab": {
          "base_uri": "https://localhost:8080/"
        },
        "id": "vNbGoq05CSLf",
        "outputId": "27a6d137-c70f-4495-e1bf-86191a31f8d8"
      },
      "execution_count": 5,
      "outputs": [
        {
          "output_type": "stream",
          "name": "stderr",
          "text": [
            "<ipython-input-2-144832f67f39>:12: UserWarning: PySoundFile failed. Trying audioread instead.\n",
            "  audio_input, _ = librosa.load(audio_path, sr=16000)\n",
            "/usr/local/lib/python3.11/dist-packages/librosa/core/audio.py:184: FutureWarning: librosa.core.audio.__audioread_load\n",
            "\tDeprecated as of librosa version 0.10.0.\n",
            "\tIt will be removed in librosa version 1.0.\n",
            "  y, sr_native = __audioread_load(path, offset, duration, dtype)\n"
          ]
        },
        {
          "output_type": "stream",
          "name": "stdout",
          "text": [
            "ሼኒተወልደ ን ሚባሉው በዚህ ጤና ጠበያ የባጤና አባሎሙያ ነኝ ያንተስማን በልክሟእሹክመስላስ ባላሉኝ ሺ ማእሾ ድሜሄስንት ነው አድሜኤሰላሳ ስባት የሜስለነጥሩ ጽታ ወንድ ጽወተውን ሲል ቁጥር ዘሮጠኝ አስራ ስምንት ዜሮ አምስት ስርም ስት ሳላስባት ተለያ ስባት ጸላስአድድ ሰለሰአንድ ሺማእሾ ከየትን የመጣሀው አእዚ መጣ ሁት ከ ሞኦለዩኒቨርስቲ ቆለጃክሬሳስለኤኤማሾምንድና ያመመህምንድነ ሚ ሰማአአሁን ያመመኝ ትንሽ እየጨጐራአንድኦን ሆኖል ያቀጠለኝ ነው ይህ ባጣም እያመነኝ ስለማንየህግምላይ ረጣት ከመች ጀምሮው ባአንድ ወር ኖ ውይን ፕሪቬስከከዚህ በፊት ም ሌላንትንያም ህ ነበር ወይ ስ ለመጀመሪያ ጊዜነው በዚህ እያመ ማሀይለሁቀይትክዝ ፊት ነበረኝ ትንሽ የ ስሜት ነበረኝ ነገር ግን በጣም ወደ ህክምነ ያደረስ ወደመው ወጣ ትመጨመረ በዚያ ንድወር ውስጥ ነው ትንሽም ሲበሏን በጣም ያቃጥለኛ አለበጋለበጣም ስል ቸገርቅነው በ ሞጣሺኦሽሲር ብህኖው ወይ ስም ግብ ከ በላሀ በኋላኖ ው ስሜቱ ን ሚ ብስበበጣሚ ምስቢኝምዱ ስባላ ነው የግብስትወላህለዊ ትንሽ ቀጽቀስ ያለ የቆየ ወንድ መው በጣሁእስከሆነ እንዲውምቀንንንስቃ ጠል ለሞሆኑሽማሽው የላቦራቶሪንት ና ስር አልህለ ና ከ ውጤት በኋላ መድሀኝ ትንስላልአውሰቅናል ደቁተነ\n"
          ]
        }
      ]
    },
    {
      "cell_type": "code",
      "source": [
        "# !python /content/train_v2.1-colab.py \\\n",
        "#     --csv_path /content/drive/MyDrive/trainingdata/dataset.csv \\\n",
        "#     --output_dir /content/outputs \\\n",
        "#     --base_model facebook/wav2vec2-large-xlsr-53 \\\n",
        "#     --batch_size 2 \\\n",
        "#     --max_steps 10000 \\\n",
        "#     --do_awgn \\\n",
        "#     --do_masking"
      ],
      "metadata": {
        "id": "FYfsmfbQlFi8"
      },
      "execution_count": null,
      "outputs": []
    }
  ]
}